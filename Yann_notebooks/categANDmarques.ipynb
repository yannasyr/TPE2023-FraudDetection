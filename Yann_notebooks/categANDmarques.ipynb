{
 "cells": [
  {
   "cell_type": "markdown",
   "metadata": {},
   "source": [
    "<div style=\"background-color: #a7d9b6; color: black; padding: 20px\">\n",
    "  <h1 style=\"text-align: center\"><strong>TPE Yann Inas 2023</strong></h1>\n",
    "  <h2 style=\"text-align: center\"><em>Détection de fraude bancaire</em></h2>\n",
    "</div>\n",
    "\n",
    "<!-- Pour le mode sombre -->\n",
    "\n",
    "<style>\n",
    "@media (prefers-color-scheme: dark) {\n",
    "  div {\n",
    "    background-color: #303030;\n",
    "    color: white;\n",
    "  }\n",
    "}\n",
    "</style>\n"
   ]
  },
  {
   "attachments": {},
   "cell_type": "markdown",
   "metadata": {},
   "source": [
    "# 1. Imports"
   ]
  },
  {
   "cell_type": "code",
   "execution_count": 1,
   "metadata": {},
   "outputs": [],
   "source": [
    "import numpy as np \n",
    "import matplotlib.pyplot as plt\n",
    "import pandas as pd\n",
    "import seaborn as sns\n",
    "\n",
    "from sklearn.model_selection import train_test_split\n",
    "from sklearn.metrics import average_precision_score\n",
    "from sklearn.metrics import confusion_matrix\n",
    "\n",
    "import xgboost as xgb"
   ]
  },
  {
   "cell_type": "code",
   "execution_count": 2,
   "metadata": {},
   "outputs": [],
   "source": [
    "DATA_x = pd.read_csv('data/X_train_G3tdtEn.csv', delimiter = ',',encoding = 'latin1', low_memory=False)\n",
    "DATA_y = pd.read_csv('data/Y_train_2_XPXJDyy.csv', delimiter = ',',encoding = 'latin1', low_memory=False)"
   ]
  },
  {
   "cell_type": "code",
   "execution_count": 3,
   "metadata": {},
   "outputs": [],
   "source": [
    "df_marques = pd.read_csv('data/df_make_save.csv', delimiter = ',',encoding = 'latin1', low_memory=False)\n",
    "df_categs = pd.read_csv('data/df_categ_save.csv', delimiter = ',',encoding = 'latin1', low_memory=False)"
   ]
  },
  {
   "cell_type": "code",
   "execution_count": 4,
   "metadata": {},
   "outputs": [],
   "source": [
    "df_marques = df_marques.drop(\"Unnamed: 0\", axis=1).drop('nan',axis=1)\n",
    "df_categs = df_categs.drop(\"Unnamed: 0\", axis=1).drop('nan',axis=1)"
   ]
  },
  {
   "attachments": {},
   "cell_type": "markdown",
   "metadata": {},
   "source": [
    "# 2. Simplications des classes"
   ]
  },
  {
   "attachments": {},
   "cell_type": "markdown",
   "metadata": {},
   "source": [
    "On a vu dans le notebook \"*categories.ipynb*\" qu'on pouvait garder une trentaine de catégories, qui ont + de 10 achats et + de 1% de fraudes"
   ]
  },
  {
   "cell_type": "code",
   "execution_count": 5,
   "metadata": {},
   "outputs": [
    {
     "name": "stderr",
     "output_type": "stream",
     "text": [
      "C:\\Users\\kille\\AppData\\Local\\Temp\\ipykernel_18892\\1495732712.py:18: SettingWithCopyWarning: \n",
      "A value is trying to be set on a copy of a slice from a DataFrame.\n",
      "Try using .loc[row_indexer,col_indexer] = value instead\n",
      "\n",
      "See the caveats in the documentation: https://pandas.pydata.org/pandas-docs/stable/user_guide/indexing.html#returning-a-view-versus-a-copy\n",
      "  df_less_categ['ID'] = merged_plus_x_achats['ID']\n"
     ]
    }
   ],
   "source": [
    "achats_par_colonne = df_categs.sum()\n",
    "x_achats = 10\n",
    "colonnes_plus_de_x_achats = achats_par_colonne[achats_par_colonne > x_achats].index\n",
    "\n",
    "# Sélectionner uniquement les colonnes qui ont plus de 10 achats\n",
    "df_plus_de_x_achats = df_categs[colonnes_plus_de_x_achats]\n",
    "\n",
    "merged_plus_x_achats = pd.merge(df_plus_de_x_achats,DATA_y,on='ID')\n",
    "merged_plus_x_achats_fraud = merged_plus_x_achats[merged_plus_x_achats['fraud_flag'] == 1]\n",
    "\n",
    "tab1 = merged_plus_x_achats_fraud.drop(\"ID\",axis=1).drop(\"index\",axis=1).drop(\"fraud_flag\",axis=1).sum()\n",
    "tab2 = merged_plus_x_achats.drop(\"ID\",axis=1).drop(\"index\",axis=1).drop(\"fraud_flag\",axis=1).sum()\n",
    "tab3 = 100 * tab1 / (tab1 + tab2)\n",
    "\n",
    "categ_frauduleuses_pourcentage = tab3[tab3 > 1].index\n",
    "\n",
    "df_less_categ = merged_plus_x_achats[categ_frauduleuses_pourcentage]\n",
    "df_less_categ['ID'] = merged_plus_x_achats['ID']\n",
    "\n",
    "df_less_categ = df_less_categ.fillna(0)"
   ]
  },
  {
   "attachments": {},
   "cell_type": "markdown",
   "metadata": {},
   "source": [
    "On a vu dans le notebook \"*marques.ipynb*\" qu'on pouvait garder une trentaine de marques, qui ont + de 20 achats et + de 0.1% de fraudes"
   ]
  },
  {
   "cell_type": "code",
   "execution_count": 6,
   "metadata": {},
   "outputs": [
    {
     "name": "stderr",
     "output_type": "stream",
     "text": [
      "C:\\Users\\kille\\AppData\\Local\\Temp\\ipykernel_18892\\3602801688.py:18: SettingWithCopyWarning: \n",
      "A value is trying to be set on a copy of a slice from a DataFrame.\n",
      "Try using .loc[row_indexer,col_indexer] = value instead\n",
      "\n",
      "See the caveats in the documentation: https://pandas.pydata.org/pandas-docs/stable/user_guide/indexing.html#returning-a-view-versus-a-copy\n",
      "  df_less_marques['ID'] = merged_plus_x_achats['ID']\n"
     ]
    }
   ],
   "source": [
    "achats_par_colonne = df_marques.sum()\n",
    "x_achats = 10\n",
    "colonnes_plus_de_x_achats = achats_par_colonne[achats_par_colonne > x_achats].index\n",
    "\n",
    "# Sélectionner uniquement les colonnes qui ont plus de 10 achats\n",
    "df_plus_de_x_achats = df_marques[colonnes_plus_de_x_achats]\n",
    "\n",
    "merged_plus_x_achats = pd.merge(df_plus_de_x_achats,DATA_y,on='ID')\n",
    "merged_plus_x_achats_fraud = merged_plus_x_achats[merged_plus_x_achats['fraud_flag'] == 1]\n",
    "\n",
    "tab1 = merged_plus_x_achats_fraud.drop(\"ID\",axis=1).drop(\"index\",axis=1).drop(\"fraud_flag\",axis=1).sum()\n",
    "tab2 = merged_plus_x_achats.drop(\"ID\",axis=1).drop(\"index\",axis=1).drop(\"fraud_flag\",axis=1).sum()\n",
    "tab3 = 100 * tab1 / (tab1 + tab2)\n",
    "\n",
    "categ_frauduleuses_pourcentage = tab3[tab3 > 1].index\n",
    "\n",
    "df_less_marques = merged_plus_x_achats[categ_frauduleuses_pourcentage]\n",
    "df_less_marques['ID'] = merged_plus_x_achats['ID']\n",
    "\n",
    "df_less_marques = df_less_marques.fillna(0)"
   ]
  },
  {
   "cell_type": "code",
   "execution_count": 7,
   "metadata": {},
   "outputs": [],
   "source": [
    "df_less_concat = pd.merge(df_less_categ,df_less_marques,on=\"ID\")"
   ]
  },
  {
   "cell_type": "code",
   "execution_count": 8,
   "metadata": {},
   "outputs": [],
   "source": [
    "df_less_concat['Nb_of_items'] = DATA_x['Nb_of_items']\n",
    "\n",
    "cash_price_columns = [\"cash_price\" + str(i) for i in range(1, 5)]\n",
    "X_cash_price = DATA_x[cash_price_columns]\n",
    "df_less_concat = pd.concat([df_less_concat, X_cash_price], axis=1)\n",
    "df_less_concat = df_less_concat.fillna(0)"
   ]
  },
  {
   "cell_type": "code",
   "execution_count": 9,
   "metadata": {},
   "outputs": [
    {
     "data": {
      "text/plain": [
       "Index(['AUDIO ACCESSORIES', 'BABY CHANGING', 'BABY CHILD TRAVEL',\n",
       "       'BABY FEEDING', 'BABYWEAR', 'BARWARE', 'BLANK MEDIA MEDIA STORAGE',\n",
       "       'CARPETS, RUGS & FLOORING', 'COMPUTERS', 'COOKWARE', 'FOOD PREPARATION',\n",
       "       'FRAGRANCE', 'FULFILMENT CHARGE', 'GAMING', 'HI-FI',\n",
       "       'HOME AND PERSONAL SECURITY', 'IMAGING EQUIPMENT', 'JEWELLERY WATCHES',\n",
       "       'MEN S CLOTHES', 'MEN S FOOTWEAR', 'POWER BATTERIES', 'TABLEWARE',\n",
       "       'TELEPHONES FAX MACHINES TWO-WAY RADIOS',\n",
       "       'TELEPHONES, FAX MACHINES & TWO-WAY RADIOS', 'WOMEN S CLOTHES', 'ID',\n",
       "       'ANGLEPOISE', 'APPLE', 'BT', 'BUGABOO', 'CHICCO', 'CYBEX', 'DELL',\n",
       "       'DENBY', 'KARTELL', 'LE CREUSET', 'LEVI S', 'LOUIS DE POORTERE',\n",
       "       'MAXI-COSI', 'NIKON', 'OXO', 'OYSTER', 'PANASONIC', 'PHILIPS',\n",
       "       'RETAILER', 'RING', 'ROBERT WELCH', 'SAMSUNG', 'SHNUGGLE',\n",
       "       'SILVER CROSS', 'TEMPUR', 'TOMMEE TIPPEE', 'Nb_of_items', 'cash_price1',\n",
       "       'cash_price2', 'cash_price3', 'cash_price4'],\n",
       "      dtype='object')"
      ]
     },
     "execution_count": 9,
     "metadata": {},
     "output_type": "execute_result"
    }
   ],
   "source": [
    "df_less_concat.columns"
   ]
  },
  {
   "attachments": {},
   "cell_type": "markdown",
   "metadata": {},
   "source": [
    "# 3. Test de modèles"
   ]
  },
  {
   "cell_type": "code",
   "execution_count": 11,
   "metadata": {},
   "outputs": [],
   "source": [
    "avg_preci = []\n",
    "confusion = []\n",
    "for i in range(20):\n",
    "    X_train, X_test, Y_train, Y_test = train_test_split(df_less_concat, DATA_y, test_size = 0.2)\n",
    "    Y_train = Y_train.drop(\"ID\",axis=1).drop(\"index\",axis=1)\n",
    "    Y_test = Y_test.drop(\"ID\", axis=1).drop(\"index\",axis=1)\n",
    "    boost2 = xgb.XGBClassifier()\n",
    "    boost2.fit(X_train, Y_train)\n",
    "    y_pred2 = boost2.predict(X_test)\n",
    "\n",
    "    tn, fp, fn, tp = confusion_matrix(Y_test, y_pred2).ravel()\n",
    "    avg_preci.append(average_precision_score(Y_test, y_pred2))\n",
    "    confusion.append((tn, fp, fn, tp))"
   ]
  },
  {
   "cell_type": "code",
   "execution_count": 12,
   "metadata": {},
   "outputs": [
    {
     "name": "stdout",
     "output_type": "stream",
     "text": [
      "Moyenne des average precision : 0.10225635698823184\n"
     ]
    }
   ],
   "source": [
    "print(\"Moyenne des average precision :\", sum(avg_preci)/len(avg_preci))"
   ]
  },
  {
   "cell_type": "code",
   "execution_count": 13,
   "metadata": {},
   "outputs": [
    {
     "data": {
      "image/png": "[encoded data removed]",
      "text/plain": [
       "<Figure size 900x600 with 2 Axes>"
      ]
     },
     "metadata": {},
     "output_type": "display_data"
    }
   ],
   "source": [
    "# Calculer la moyenne de chaque élément de la matrice de confusion\n",
    "avg_confusion = np.mean(confusion, axis=0)\n",
    "\n",
    "# Créer une matrice de confusion en utilisant la moyenne\n",
    "confusion_array = np.array([[avg_confusion[0], avg_confusion[1]], [avg_confusion[2], avg_confusion[3]]])\n",
    "\n",
    "# Créer une heatmap à partir de la matrice de confusion\n",
    "plt.figure(figsize=(9,6))\n",
    "sns.heatmap(confusion_array, annot=True, cmap='Blues', fmt=\".0f\")\n",
    "plt.xlabel('Predicted label')\n",
    "plt.ylabel('True label')\n",
    "plt.show()"
   ]
  },
  {
   "attachments": {},
   "cell_type": "markdown",
   "metadata": {},
   "source": [
    "### Jouer avec les paramètres du XGBoost "
   ]
  },
  {
   "cell_type": "code",
   "execution_count": null,
   "metadata": {},
   "outputs": [
    {
     "ename": "NameError",
     "evalue": "name 'df_less_concat' is not defined",
     "output_type": "error",
     "traceback": [
      "\u001b[1;31m---------------------------------------------------------------------------\u001b[0m",
      "\u001b[1;31mNameError\u001b[0m                                 Traceback (most recent call last)",
      "\u001b[1;32md:\\dossier_git\\TPE2023-FraudDetection\\categANDmarques.ipynb Cell 20\u001b[0m in \u001b[0;36m<cell line: 1>\u001b[1;34m()\u001b[0m\n\u001b[1;32m----> <a href='vscode-notebook-cell:/d%3A/dossier_git/TPE2023-FraudDetection/categANDmarques.ipynb#X25sZmlsZQ%3D%3D?line=0'>1</a>\u001b[0m X_train, X_test, Y_train, Y_test \u001b[39m=\u001b[39m train_test_split(df_less_concat, DATA_y, test_size \u001b[39m=\u001b[39m \u001b[39m0.2\u001b[39m, random_state\u001b[39m=\u001b[39m\u001b[39m1\u001b[39m)\n\u001b[0;32m      <a href='vscode-notebook-cell:/d%3A/dossier_git/TPE2023-FraudDetection/categANDmarques.ipynb#X25sZmlsZQ%3D%3D?line=1'>2</a>\u001b[0m Y_train \u001b[39m=\u001b[39m Y_train\u001b[39m.\u001b[39mdrop(\u001b[39m\"\u001b[39m\u001b[39mID\u001b[39m\u001b[39m\"\u001b[39m,axis\u001b[39m=\u001b[39m\u001b[39m1\u001b[39m)\u001b[39m.\u001b[39mdrop(\u001b[39m\"\u001b[39m\u001b[39mindex\u001b[39m\u001b[39m\"\u001b[39m,axis\u001b[39m=\u001b[39m\u001b[39m1\u001b[39m)\n\u001b[0;32m      <a href='vscode-notebook-cell:/d%3A/dossier_git/TPE2023-FraudDetection/categANDmarques.ipynb#X25sZmlsZQ%3D%3D?line=2'>3</a>\u001b[0m Y_test \u001b[39m=\u001b[39m Y_test\u001b[39m.\u001b[39mdrop(\u001b[39m\"\u001b[39m\u001b[39mID\u001b[39m\u001b[39m\"\u001b[39m, axis\u001b[39m=\u001b[39m\u001b[39m1\u001b[39m)\u001b[39m.\u001b[39mdrop(\u001b[39m\"\u001b[39m\u001b[39mindex\u001b[39m\u001b[39m\"\u001b[39m,axis\u001b[39m=\u001b[39m\u001b[39m1\u001b[39m)\n",
      "\u001b[1;31mNameError\u001b[0m: name 'df_less_concat' is not defined"
     ]
    }
   ],
   "source": [
    "X_train, X_test, Y_train, Y_test = train_test_split(df_less_concat, DATA_y, test_size = 0.2, random_state=1)\n",
    "Y_train = Y_train.drop(\"ID\",axis=1).drop(\"index\",axis=1)\n",
    "Y_test = Y_test.drop(\"ID\", axis=1).drop(\"index\",axis=1)"
   ]
  },
  {
   "cell_type": "code",
   "execution_count": null,
   "metadata": {},
   "outputs": [],
   "source": [
    "X_train.to_csv(\"data/X_train.csv\", sep=',',encoding = 'latin1')\n",
    "Y_train.to_csv(\"data/Y_train.csv\", sep=',',encoding = 'latin1')\n",
    "X_test.to_csv(\"data/X_test.csv\", sep=',',encoding = 'latin1')\n",
    "Y_test.to_csv(\"data/Y_test.csv\", sep=',',encoding = 'latin1')"
   ]
  },
  {
   "cell_type": "code",
   "execution_count": null,
   "metadata": {},
   "outputs": [
    {
     "name": "stdout",
     "output_type": "stream",
     "text": [
      "0.13015677720976257\n"
     ]
    }
   ],
   "source": [
    "boost2 = xgb.XGBClassifier()\n",
    "boost2.fit(X_train, Y_train)\n",
    "y_pred2 = boost2.predict(X_test)\n",
    "\n",
    "print(average_precision_score(Y_test, y_pred2))"
   ]
  },
  {
   "attachments": {},
   "cell_type": "markdown",
   "metadata": {},
   "source": [
    "J'ai utilisé RandomGridCV mais sur Google Collab pour profiter du GPU. Les hyperparamètres suivant en découlent."
   ]
  },
  {
   "cell_type": "code",
   "execution_count": null,
   "metadata": {},
   "outputs": [
    {
     "name": "stdout",
     "output_type": "stream",
     "text": [
      "0.15726139817331086\n"
     ]
    }
   ],
   "source": [
    "best_boost = xgb.XGBClassifier(subsample=0.8, scale_pos_weight=1, reg_lambda=0.0, \n",
    "                               reg_alpha=0.6, n_estimators=750, min_child_weight=7, \n",
    "                               max_depth=8, learning_rate=0.1, gamma=0.2, \n",
    "                               colsample_bytree=0.9)\n",
    "best_boost.fit(X_train, Y_train)\n",
    "y_pred2 = best_boost.predict(X_test)\n",
    "\n",
    "print(average_precision_score(Y_test, y_pred2))"
   ]
  },
  {
   "attachments": {},
   "cell_type": "markdown",
   "metadata": {},
   "source": [
    "Maintenant, si on fait pour plusieurs répartitions : "
   ]
  },
  {
   "cell_type": "code",
   "execution_count": null,
   "metadata": {},
   "outputs": [],
   "source": [
    "avg_preci2 = []\n",
    "confusion2 = []\n",
    "for i in range(20):\n",
    "    X_train, X_test, Y_train, Y_test = train_test_split(df_less_concat, DATA_y, test_size = 0.2)\n",
    "    Y_train = Y_train.drop(\"ID\",axis=1).drop(\"index\",axis=1)\n",
    "    Y_test = Y_test.drop(\"ID\", axis=1).drop(\"index\",axis=1)\n",
    "    best_boost = xgb.XGBClassifier(subsample=0.8, scale_pos_weight=1, reg_lambda=0.0, \n",
    "                               reg_alpha=0.6, n_estimators=750, min_child_weight=7, \n",
    "                               max_depth=8, learning_rate=0.1, gamma=0.2, \n",
    "                               colsample_bytree=0.9)\n",
    "    best_boost.fit(X_train, Y_train)\n",
    "    y_pred2 = best_boost.predict(X_test)\n",
    "\n",
    "    tn, fp, fn, tp = confusion_matrix(Y_test, y_pred2).ravel()\n",
    "    avg_preci2.append(average_precision_score(Y_test, y_pred2))\n",
    "    confusion2.append((tn, fp, fn, tp))"
   ]
  },
  {
   "cell_type": "code",
   "execution_count": null,
   "metadata": {},
   "outputs": [
    {
     "name": "stdout",
     "output_type": "stream",
     "text": [
      "Moyenne des average precision : 0.11280074438578165\n"
     ]
    }
   ],
   "source": [
    "print(\"Moyenne des average precision :\", sum(avg_preci2)/len(avg_preci2))"
   ]
  },
  {
   "cell_type": "code",
   "execution_count": null,
   "metadata": {},
   "outputs": [],
   "source": [
    "avg_preci2 = []\n",
    "confusion2 = []\n",
    "for i in range(10):\n",
    "    X_train, X_test, Y_train, Y_test = train_test_split(df_less_concat, DATA_y, test_size = 0.2)\n",
    "    Y_train = Y_train.drop(\"ID\",axis=1).drop(\"index\",axis=1)\n",
    "    Y_test = Y_test.drop(\"ID\", axis=1).drop(\"index\",axis=1)\n",
    "    best_boost = xgb.XGBClassifier(subsample=0.7, scale_pos_weight=1, reg_lambda=0.5, \n",
    "                               reg_alpha=0.3, n_estimators=500, min_child_weight=7, \n",
    "                               max_depth=10, learning_rate=0.2, gamma=0.1, \n",
    "                               colsample_bytree=0.6)\n",
    "    best_boost.fit(X_train, Y_train)\n",
    "    y_pred2 = best_boost.predict(X_test)\n",
    "\n",
    "    tn, fp, fn, tp = confusion_matrix(Y_test, y_pred2).ravel()\n",
    "    avg_preci2.append(average_precision_score(Y_test, y_pred2))\n",
    "    confusion2.append((tn, fp, fn, tp))"
   ]
  },
  {
   "cell_type": "code",
   "execution_count": null,
   "metadata": {},
   "outputs": [
    {
     "name": "stdout",
     "output_type": "stream",
     "text": [
      "Moyenne des average precision : 0.11346912206159802\n"
     ]
    }
   ],
   "source": [
    "print(\"Moyenne des average precision :\", sum(avg_preci2)/len(avg_preci2))"
   ]
  },
  {
   "cell_type": "code",
   "execution_count": null,
   "metadata": {},
   "outputs": [],
   "source": [
    "avg_preci2 = []\n",
    "confusion2 = []\n",
    "for i in range(10):\n",
    "    X_train, X_test, Y_train, Y_test = train_test_split(df_less_concat, DATA_y, test_size = 0.2)\n",
    "    Y_train = Y_train.drop(\"ID\",axis=1).drop(\"index\",axis=1)\n",
    "    Y_test = Y_test.drop(\"ID\", axis=1).drop(\"index\",axis=1)\n",
    "    best_boost = xgb.XGBClassifier(subsample=0.85, scale_pos_weight=1, reg_lambda=0.8, \n",
    "                               reg_alpha=0.7, n_estimators=700, min_child_weight=4, \n",
    "                               max_depth=5, learning_rate=0.2, gamma=0.0, \n",
    "                               colsample_bytree=0.9)\n",
    "    best_boost.fit(X_train, Y_train)\n",
    "    y_pred2 = best_boost.predict(X_test)\n",
    "\n",
    "    tn, fp, fn, tp = confusion_matrix(Y_test, y_pred2).ravel()\n",
    "    avg_preci2.append(average_precision_score(Y_test, y_pred2))\n",
    "    confusion2.append((tn, fp, fn, tp))"
   ]
  },
  {
   "cell_type": "code",
   "execution_count": null,
   "metadata": {},
   "outputs": [
    {
     "name": "stdout",
     "output_type": "stream",
     "text": [
      "Moyenne des average precision : 0.1141845535613196\n"
     ]
    }
   ],
   "source": [
    "print(\"Moyenne des average precision :\", sum(avg_preci2)/len(avg_preci2))"
   ]
  },
  {
   "attachments": {},
   "cell_type": "markdown",
   "metadata": {},
   "source": [
    "# Pré-traitement sur tout le X_test fourni par BNP Paribas"
   ]
  },
  {
   "attachments": {},
   "cell_type": "markdown",
   "metadata": {},
   "source": [
    "### On peut ignorer cette partie, c'est pour soumettre un fichier sur le site du challenge et être classé"
   ]
  },
  {
   "attachments": {},
   "cell_type": "markdown",
   "metadata": {},
   "source": [
    "Cependant, c'est un bon résumé de comment on construit notre dataframe simplifié"
   ]
  },
  {
   "cell_type": "code",
   "execution_count": null,
   "metadata": {},
   "outputs": [],
   "source": [
    "df_x_test_origin = pd.read_csv(\"data/X_test_8skS2ey.csv\", delimiter = ',',encoding = 'latin1', low_memory=False)"
   ]
  },
  {
   "cell_type": "code",
   "execution_count": null,
   "metadata": {},
   "outputs": [
    {
     "name": "stdout",
     "output_type": "stream",
     "text": [
      "['AUDIO ACCESSORIES', 'BABY CHANGING', 'BABY CHILD TRAVEL', 'BABY FEEDING', 'BABYWEAR', 'BARWARE', 'BLANK MEDIA MEDIA STORAGE', 'CARPETS, RUGS & FLOORING', 'COMPUTERS', 'COOKWARE', 'FOOD PREPARATION', 'FRAGRANCE', 'FULFILMENT CHARGE', 'GAMING', 'HI-FI', 'HOME AND PERSONAL SECURITY', 'IMAGING EQUIPMENT', 'JEWELLERY WATCHES', 'MEN S CLOTHES', 'MEN S FOOTWEAR', 'POWER BATTERIES', 'TABLEWARE', 'TELEPHONES FAX MACHINES TWO-WAY RADIOS', 'TELEPHONES, FAX MACHINES & TWO-WAY RADIOS', 'WOMEN S CLOTHES', 'ANGLEPOISE', 'APPLE', 'BT', 'BUGABOO', 'CHICCO', 'CYBEX', 'DELL', 'DENBY', 'KARTELL', 'LE CREUSET', 'LEVI S', 'LOUIS DE POORTERE', 'MAXI-COSI', 'NIKON', 'OXO', 'OYSTER', 'PANASONIC', 'PHILIPS', 'RETAILER', 'RING', 'ROBERT WELCH', 'SAMSUNG', 'SHNUGGLE', 'SILVER CROSS', 'TEMPUR', 'TOMMEE TIPPEE']\n"
     ]
    }
   ],
   "source": [
    "tableau_categs_marques = ['AUDIO ACCESSORIES', 'BABY CHANGING', 'BABY CHILD TRAVEL',\n",
    "       'BABY FEEDING', 'BABYWEAR', 'BARWARE', 'BLANK MEDIA MEDIA STORAGE',\n",
    "       'CARPETS, RUGS & FLOORING', 'COMPUTERS', 'COOKWARE', 'FOOD PREPARATION',\n",
    "       'FRAGRANCE', 'FULFILMENT CHARGE', 'GAMING', 'HI-FI',\n",
    "       'HOME AND PERSONAL SECURITY', 'IMAGING EQUIPMENT', 'JEWELLERY WATCHES',\n",
    "       'MEN S CLOTHES', 'MEN S FOOTWEAR', 'POWER BATTERIES', 'TABLEWARE',\n",
    "       'TELEPHONES FAX MACHINES TWO-WAY RADIOS',\n",
    "       'TELEPHONES, FAX MACHINES & TWO-WAY RADIOS', 'WOMEN S CLOTHES', 'ANGLEPOISE', 'APPLE', 'BT', 'BUGABOO', 'CHICCO', 'CYBEX', 'DELL',\n",
    "       'DENBY', 'KARTELL', 'LE CREUSET', 'LEVI S', 'LOUIS DE POORTERE',\n",
    "       'MAXI-COSI', 'NIKON', 'OXO', 'OYSTER', 'PANASONIC', 'PHILIPS',\n",
    "       'RETAILER', 'RING', 'ROBERT WELCH', 'SAMSUNG', 'SHNUGGLE',\n",
    "       'SILVER CROSS', 'TEMPUR', 'TOMMEE TIPPEE']\n",
    "\n",
    "print(tableau_categs_marques)"
   ]
  },
  {
   "cell_type": "code",
   "execution_count": null,
   "metadata": {},
   "outputs": [
    {
     "name": "stderr",
     "output_type": "stream",
     "text": [
      "C:\\Users\\kille\\AppData\\Local\\Temp\\ipykernel_21712\\3090591788.py:19: SettingWithCopyWarning: \n",
      "A value is trying to be set on a copy of a slice from a DataFrame\n",
      "\n",
      "See the caveats in the documentation: https://pandas.pydata.org/pandas-docs/stable/user_guide/indexing.html#returning-a-view-versus-a-copy\n",
      "  df_x_test_simp[make_column][row] = nb_items\n",
      "C:\\Users\\kille\\AppData\\Local\\Temp\\ipykernel_21712\\3090591788.py:21: SettingWithCopyWarning: \n",
      "A value is trying to be set on a copy of a slice from a DataFrame\n",
      "\n",
      "See the caveats in the documentation: https://pandas.pydata.org/pandas-docs/stable/user_guide/indexing.html#returning-a-view-versus-a-copy\n",
      "  df_x_test_simp[categ_column][row] = nb_items\n"
     ]
    }
   ],
   "source": [
    "nb_colonnes = 4\n",
    "df_x_test_simp = pd.DataFrame(columns=tableau_categs_marques, index=df_x_test_origin.index)\n",
    "df_x_test_simp['ID'] = df_x_test_origin['ID']\n",
    "\n",
    "for row in df_x_test_origin.index:\n",
    "    for i in range(1, nb_colonnes+1):\n",
    "        marque = df_x_test_origin[f'make{i}'][row]\n",
    "        categ = df_x_test_origin[f'make{i}'][row]\n",
    "        nb_items = df_x_test_origin[f\"Nbr_of_prod_purchas{i}\"][row]\n",
    "\n",
    "        if type(marque) == float: # Stop si valeur nulle\n",
    "            break\n",
    "        if type(categ) == float: # Stop si valeur nulle\n",
    "            break\n",
    "    \n",
    "        make_column = f\"{marque}\"\n",
    "        categ_column = f\"{categ}\"\n",
    "        if make_column in df_x_test_simp.columns:\n",
    "            df_x_test_simp[make_column][row] = nb_items\n",
    "        if categ_column in df_x_test_simp.columns:\n",
    "            df_x_test_simp[categ_column][row] = nb_items\n",
    "\n",
    "df_x_test_simp = df_x_test_simp.fillna(0)"
   ]
  },
  {
   "cell_type": "code",
   "execution_count": null,
   "metadata": {},
   "outputs": [],
   "source": [
    "df_x_test_simp['Nb_of_items'] = df_x_test_origin['Nb_of_items']\n",
    "\n",
    "cash_price_columns = [\"cash_price\" + str(i) for i in range(1, 5)]\n",
    "X_cash_price = df_x_test_origin[cash_price_columns]\n",
    "df_x_test_simp = pd.concat([df_x_test_simp, X_cash_price], axis=1)\n",
    "df_x_test_simp = df_x_test_simp.fillna(0)"
   ]
  },
  {
   "cell_type": "code",
   "execution_count": null,
   "metadata": {},
   "outputs": [],
   "source": [
    "df_less_concat = df_less_concat.reindex(columns=df_x_test_simp.columns)"
   ]
  },
  {
   "cell_type": "code",
   "execution_count": null,
   "metadata": {},
   "outputs": [],
   "source": [
    "df_less_concat.to_csv(\"data/X_train_BNP_simplif.csv\", sep=',',encoding = 'latin1')\n",
    "df_x_test_simp.to_csv(\"data/X_test_BNP_simplif.csv\", sep=',',encoding = 'latin1')"
   ]
  },
  {
   "attachments": {},
   "cell_type": "markdown",
   "metadata": {},
   "source": [
    "### Testons le chargement des DataFrames"
   ]
  },
  {
   "cell_type": "code",
   "execution_count": null,
   "metadata": {},
   "outputs": [],
   "source": [
    "df_train = pd.read_csv(\"data/X_train_BNP_simplif.csv\", delimiter = ',', encoding='latin1', index_col=0)\n",
    "df_test = pd.read_csv(\"data/X_test_BNP_simplif.csv\", delimiter = ',', encoding='latin1', index_col=0)"
   ]
  },
  {
   "cell_type": "code",
   "execution_count": null,
   "metadata": {},
   "outputs": [
    {
     "data": {
      "text/html": [
       "<div>\n",
       "<style scoped>\n",
       "    .dataframe tbody tr th:only-of-type {\n",
       "        vertical-align: middle;\n",
       "    }\n",
       "\n",
       "    .dataframe tbody tr th {\n",
       "        vertical-align: top;\n",
       "    }\n",
       "\n",
       "    .dataframe thead th {\n",
       "        text-align: right;\n",
       "    }\n",
       "</style>\n",
       "<table border=\"1\" class=\"dataframe\">\n",
       "  <thead>\n",
       "    <tr style=\"text-align: right;\">\n",
       "      <th></th>\n",
       "      <th>AUDIO ACCESSORIES</th>\n",
       "      <th>BABY CHANGING</th>\n",
       "      <th>BABY CHILD TRAVEL</th>\n",
       "      <th>BABY FEEDING</th>\n",
       "      <th>BABYWEAR</th>\n",
       "      <th>BARWARE</th>\n",
       "      <th>BLANK MEDIA MEDIA STORAGE</th>\n",
       "      <th>CARPETS, RUGS &amp; FLOORING</th>\n",
       "      <th>COMPUTERS</th>\n",
       "      <th>COOKWARE</th>\n",
       "      <th>...</th>\n",
       "      <th>SHNUGGLE</th>\n",
       "      <th>SILVER CROSS</th>\n",
       "      <th>TEMPUR</th>\n",
       "      <th>TOMMEE TIPPEE</th>\n",
       "      <th>ID</th>\n",
       "      <th>Nb_of_items</th>\n",
       "      <th>cash_price1</th>\n",
       "      <th>cash_price2</th>\n",
       "      <th>cash_price3</th>\n",
       "      <th>cash_price4</th>\n",
       "    </tr>\n",
       "  </thead>\n",
       "  <tbody>\n",
       "    <tr>\n",
       "      <th>0</th>\n",
       "      <td>0</td>\n",
       "      <td>0</td>\n",
       "      <td>0</td>\n",
       "      <td>0</td>\n",
       "      <td>0</td>\n",
       "      <td>0</td>\n",
       "      <td>0</td>\n",
       "      <td>0</td>\n",
       "      <td>0</td>\n",
       "      <td>0</td>\n",
       "      <td>...</td>\n",
       "      <td>0.0</td>\n",
       "      <td>0.0</td>\n",
       "      <td>0.0</td>\n",
       "      <td>0.0</td>\n",
       "      <td>64707</td>\n",
       "      <td>1.0</td>\n",
       "      <td>399.0</td>\n",
       "      <td>0.0</td>\n",
       "      <td>0.0</td>\n",
       "      <td>0.0</td>\n",
       "    </tr>\n",
       "    <tr>\n",
       "      <th>1</th>\n",
       "      <td>0</td>\n",
       "      <td>0</td>\n",
       "      <td>0</td>\n",
       "      <td>0</td>\n",
       "      <td>0</td>\n",
       "      <td>0</td>\n",
       "      <td>0</td>\n",
       "      <td>0</td>\n",
       "      <td>0</td>\n",
       "      <td>0</td>\n",
       "      <td>...</td>\n",
       "      <td>0.0</td>\n",
       "      <td>0.0</td>\n",
       "      <td>0.0</td>\n",
       "      <td>0.0</td>\n",
       "      <td>63919</td>\n",
       "      <td>1.0</td>\n",
       "      <td>294.0</td>\n",
       "      <td>0.0</td>\n",
       "      <td>0.0</td>\n",
       "      <td>0.0</td>\n",
       "    </tr>\n",
       "    <tr>\n",
       "      <th>2</th>\n",
       "      <td>0</td>\n",
       "      <td>0</td>\n",
       "      <td>0</td>\n",
       "      <td>0</td>\n",
       "      <td>0</td>\n",
       "      <td>0</td>\n",
       "      <td>0</td>\n",
       "      <td>0</td>\n",
       "      <td>0</td>\n",
       "      <td>0</td>\n",
       "      <td>...</td>\n",
       "      <td>0.0</td>\n",
       "      <td>0.0</td>\n",
       "      <td>0.0</td>\n",
       "      <td>0.0</td>\n",
       "      <td>15664</td>\n",
       "      <td>1.0</td>\n",
       "      <td>929.0</td>\n",
       "      <td>0.0</td>\n",
       "      <td>0.0</td>\n",
       "      <td>0.0</td>\n",
       "    </tr>\n",
       "    <tr>\n",
       "      <th>3</th>\n",
       "      <td>0</td>\n",
       "      <td>0</td>\n",
       "      <td>0</td>\n",
       "      <td>0</td>\n",
       "      <td>0</td>\n",
       "      <td>0</td>\n",
       "      <td>0</td>\n",
       "      <td>0</td>\n",
       "      <td>0</td>\n",
       "      <td>0</td>\n",
       "      <td>...</td>\n",
       "      <td>0.0</td>\n",
       "      <td>0.0</td>\n",
       "      <td>0.0</td>\n",
       "      <td>0.0</td>\n",
       "      <td>6626</td>\n",
       "      <td>2.0</td>\n",
       "      <td>539.0</td>\n",
       "      <td>7.0</td>\n",
       "      <td>0.0</td>\n",
       "      <td>0.0</td>\n",
       "    </tr>\n",
       "    <tr>\n",
       "      <th>4</th>\n",
       "      <td>0</td>\n",
       "      <td>0</td>\n",
       "      <td>0</td>\n",
       "      <td>0</td>\n",
       "      <td>0</td>\n",
       "      <td>0</td>\n",
       "      <td>0</td>\n",
       "      <td>0</td>\n",
       "      <td>0</td>\n",
       "      <td>0</td>\n",
       "      <td>...</td>\n",
       "      <td>0.0</td>\n",
       "      <td>0.0</td>\n",
       "      <td>0.0</td>\n",
       "      <td>0.0</td>\n",
       "      <td>26766</td>\n",
       "      <td>1.0</td>\n",
       "      <td>2470.0</td>\n",
       "      <td>0.0</td>\n",
       "      <td>0.0</td>\n",
       "      <td>0.0</td>\n",
       "    </tr>\n",
       "    <tr>\n",
       "      <th>...</th>\n",
       "      <td>...</td>\n",
       "      <td>...</td>\n",
       "      <td>...</td>\n",
       "      <td>...</td>\n",
       "      <td>...</td>\n",
       "      <td>...</td>\n",
       "      <td>...</td>\n",
       "      <td>...</td>\n",
       "      <td>...</td>\n",
       "      <td>...</td>\n",
       "      <td>...</td>\n",
       "      <td>...</td>\n",
       "      <td>...</td>\n",
       "      <td>...</td>\n",
       "      <td>...</td>\n",
       "      <td>...</td>\n",
       "      <td>...</td>\n",
       "      <td>...</td>\n",
       "      <td>...</td>\n",
       "      <td>...</td>\n",
       "      <td>...</td>\n",
       "    </tr>\n",
       "    <tr>\n",
       "      <th>23193</th>\n",
       "      <td>0</td>\n",
       "      <td>0</td>\n",
       "      <td>0</td>\n",
       "      <td>0</td>\n",
       "      <td>0</td>\n",
       "      <td>0</td>\n",
       "      <td>0</td>\n",
       "      <td>0</td>\n",
       "      <td>0</td>\n",
       "      <td>0</td>\n",
       "      <td>...</td>\n",
       "      <td>0.0</td>\n",
       "      <td>0.0</td>\n",
       "      <td>0.0</td>\n",
       "      <td>0.0</td>\n",
       "      <td>63474</td>\n",
       "      <td>2.0</td>\n",
       "      <td>499.0</td>\n",
       "      <td>17.0</td>\n",
       "      <td>0.0</td>\n",
       "      <td>0.0</td>\n",
       "    </tr>\n",
       "    <tr>\n",
       "      <th>23194</th>\n",
       "      <td>0</td>\n",
       "      <td>0</td>\n",
       "      <td>0</td>\n",
       "      <td>0</td>\n",
       "      <td>0</td>\n",
       "      <td>0</td>\n",
       "      <td>0</td>\n",
       "      <td>0</td>\n",
       "      <td>0</td>\n",
       "      <td>0</td>\n",
       "      <td>...</td>\n",
       "      <td>0.0</td>\n",
       "      <td>0.0</td>\n",
       "      <td>0.0</td>\n",
       "      <td>0.0</td>\n",
       "      <td>80438</td>\n",
       "      <td>1.0</td>\n",
       "      <td>1189.0</td>\n",
       "      <td>0.0</td>\n",
       "      <td>0.0</td>\n",
       "      <td>0.0</td>\n",
       "    </tr>\n",
       "    <tr>\n",
       "      <th>23195</th>\n",
       "      <td>0</td>\n",
       "      <td>0</td>\n",
       "      <td>0</td>\n",
       "      <td>0</td>\n",
       "      <td>0</td>\n",
       "      <td>0</td>\n",
       "      <td>0</td>\n",
       "      <td>0</td>\n",
       "      <td>0</td>\n",
       "      <td>0</td>\n",
       "      <td>...</td>\n",
       "      <td>0.0</td>\n",
       "      <td>0.0</td>\n",
       "      <td>0.0</td>\n",
       "      <td>0.0</td>\n",
       "      <td>29485</td>\n",
       "      <td>1.0</td>\n",
       "      <td>1649.0</td>\n",
       "      <td>0.0</td>\n",
       "      <td>0.0</td>\n",
       "      <td>0.0</td>\n",
       "    </tr>\n",
       "    <tr>\n",
       "      <th>23196</th>\n",
       "      <td>0</td>\n",
       "      <td>0</td>\n",
       "      <td>0</td>\n",
       "      <td>0</td>\n",
       "      <td>0</td>\n",
       "      <td>0</td>\n",
       "      <td>0</td>\n",
       "      <td>0</td>\n",
       "      <td>0</td>\n",
       "      <td>0</td>\n",
       "      <td>...</td>\n",
       "      <td>0.0</td>\n",
       "      <td>0.0</td>\n",
       "      <td>0.0</td>\n",
       "      <td>0.0</td>\n",
       "      <td>59838</td>\n",
       "      <td>2.0</td>\n",
       "      <td>369.0</td>\n",
       "      <td>40.0</td>\n",
       "      <td>0.0</td>\n",
       "      <td>0.0</td>\n",
       "    </tr>\n",
       "    <tr>\n",
       "      <th>23197</th>\n",
       "      <td>0</td>\n",
       "      <td>0</td>\n",
       "      <td>0</td>\n",
       "      <td>0</td>\n",
       "      <td>0</td>\n",
       "      <td>0</td>\n",
       "      <td>0</td>\n",
       "      <td>0</td>\n",
       "      <td>0</td>\n",
       "      <td>0</td>\n",
       "      <td>...</td>\n",
       "      <td>0.0</td>\n",
       "      <td>0.0</td>\n",
       "      <td>0.0</td>\n",
       "      <td>0.0</td>\n",
       "      <td>110584</td>\n",
       "      <td>2.0</td>\n",
       "      <td>1769.0</td>\n",
       "      <td>7.0</td>\n",
       "      <td>0.0</td>\n",
       "      <td>0.0</td>\n",
       "    </tr>\n",
       "  </tbody>\n",
       "</table>\n",
       "<p>23198 rows × 57 columns</p>\n",
       "</div>"
      ],
      "text/plain": [
       "       AUDIO ACCESSORIES  BABY CHANGING  BABY CHILD TRAVEL  BABY FEEDING  \\\n",
       "0                      0              0                  0             0   \n",
       "1                      0              0                  0             0   \n",
       "2                      0              0                  0             0   \n",
       "3                      0              0                  0             0   \n",
       "4                      0              0                  0             0   \n",
       "...                  ...            ...                ...           ...   \n",
       "23193                  0              0                  0             0   \n",
       "23194                  0              0                  0             0   \n",
       "23195                  0              0                  0             0   \n",
       "23196                  0              0                  0             0   \n",
       "23197                  0              0                  0             0   \n",
       "\n",
       "       BABYWEAR  BARWARE  BLANK MEDIA MEDIA STORAGE  CARPETS, RUGS & FLOORING  \\\n",
       "0             0        0                          0                         0   \n",
       "1             0        0                          0                         0   \n",
       "2             0        0                          0                         0   \n",
       "3             0        0                          0                         0   \n",
       "4             0        0                          0                         0   \n",
       "...         ...      ...                        ...                       ...   \n",
       "23193         0        0                          0                         0   \n",
       "23194         0        0                          0                         0   \n",
       "23195         0        0                          0                         0   \n",
       "23196         0        0                          0                         0   \n",
       "23197         0        0                          0                         0   \n",
       "\n",
       "       COMPUTERS  COOKWARE  ...  SHNUGGLE  SILVER CROSS  TEMPUR  \\\n",
       "0              0         0  ...       0.0           0.0     0.0   \n",
       "1              0         0  ...       0.0           0.0     0.0   \n",
       "2              0         0  ...       0.0           0.0     0.0   \n",
       "3              0         0  ...       0.0           0.0     0.0   \n",
       "4              0         0  ...       0.0           0.0     0.0   \n",
       "...          ...       ...  ...       ...           ...     ...   \n",
       "23193          0         0  ...       0.0           0.0     0.0   \n",
       "23194          0         0  ...       0.0           0.0     0.0   \n",
       "23195          0         0  ...       0.0           0.0     0.0   \n",
       "23196          0         0  ...       0.0           0.0     0.0   \n",
       "23197          0         0  ...       0.0           0.0     0.0   \n",
       "\n",
       "       TOMMEE TIPPEE      ID  Nb_of_items  cash_price1  cash_price2  \\\n",
       "0                0.0   64707          1.0        399.0          0.0   \n",
       "1                0.0   63919          1.0        294.0          0.0   \n",
       "2                0.0   15664          1.0        929.0          0.0   \n",
       "3                0.0    6626          2.0        539.0          7.0   \n",
       "4                0.0   26766          1.0       2470.0          0.0   \n",
       "...              ...     ...          ...          ...          ...   \n",
       "23193            0.0   63474          2.0        499.0         17.0   \n",
       "23194            0.0   80438          1.0       1189.0          0.0   \n",
       "23195            0.0   29485          1.0       1649.0          0.0   \n",
       "23196            0.0   59838          2.0        369.0         40.0   \n",
       "23197            0.0  110584          2.0       1769.0          7.0   \n",
       "\n",
       "       cash_price3  cash_price4  \n",
       "0              0.0          0.0  \n",
       "1              0.0          0.0  \n",
       "2              0.0          0.0  \n",
       "3              0.0          0.0  \n",
       "4              0.0          0.0  \n",
       "...            ...          ...  \n",
       "23193          0.0          0.0  \n",
       "23194          0.0          0.0  \n",
       "23195          0.0          0.0  \n",
       "23196          0.0          0.0  \n",
       "23197          0.0          0.0  \n",
       "\n",
       "[23198 rows x 57 columns]"
      ]
     },
     "execution_count": 9,
     "metadata": {},
     "output_type": "execute_result"
    }
   ],
   "source": [
    "df_test"
   ]
  },
  {
   "cell_type": "code",
   "execution_count": null,
   "metadata": {},
   "outputs": [],
   "source": [
    "X = pd.read_csv(\"data/X_train_BNP_simplif.csv\", delimiter = ',', encoding='latin1', index_col=0)\n",
    "Y = pd.read_csv(\"data/Y_train_2_XPXJDyy.csv\", delimiter = ',', encoding='latin1', index_col=0)\n",
    "\n",
    "X_train = X.drop('ID',axis=1)\n",
    "Y_train = Y.drop('ID',axis=1)\n",
    "\n",
    "X_test = pd.read_csv(\"data/X_test_BNP_simplif.csv\", delimiter = ',', encoding='latin1', index_col=0)\n",
    "Y_exemple = pd.read_csv(\"data/Y_test_random_2.csv\", delimiter = ',', encoding='latin1', index_col=0)"
   ]
  },
  {
   "cell_type": "code",
   "execution_count": null,
   "metadata": {},
   "outputs": [
    {
     "data": {
      "text/html": [
       "<style>#sk-container-id-1 {color: black;background-color: white;}#sk-container-id-1 pre{padding: 0;}#sk-container-id-1 div.sk-toggleable {background-color: white;}#sk-container-id-1 label.sk-toggleable__label {cursor: pointer;display: block;width: 100%;margin-bottom: 0;padding: 0.3em;box-sizing: border-box;text-align: center;}#sk-container-id-1 label.sk-toggleable__label-arrow:before {content: \"▸\";float: left;margin-right: 0.25em;color: #696969;}#sk-container-id-1 label.sk-toggleable__label-arrow:hover:before {color: black;}#sk-container-id-1 div.sk-estimator:hover label.sk-toggleable__label-arrow:before {color: black;}#sk-container-id-1 div.sk-toggleable__content {max-height: 0;max-width: 0;overflow: hidden;text-align: left;background-color: #f0f8ff;}#sk-container-id-1 div.sk-toggleable__content pre {margin: 0.2em;color: black;border-radius: 0.25em;background-color: #f0f8ff;}#sk-container-id-1 input.sk-toggleable__control:checked~div.sk-toggleable__content {max-height: 200px;max-width: 100%;overflow: auto;}#sk-container-id-1 input.sk-toggleable__control:checked~label.sk-toggleable__label-arrow:before {content: \"▾\";}#sk-container-id-1 div.sk-estimator input.sk-toggleable__control:checked~label.sk-toggleable__label {background-color: #d4ebff;}#sk-container-id-1 div.sk-label input.sk-toggleable__control:checked~label.sk-toggleable__label {background-color: #d4ebff;}#sk-container-id-1 input.sk-hidden--visually {border: 0;clip: rect(1px 1px 1px 1px);clip: rect(1px, 1px, 1px, 1px);height: 1px;margin: -1px;overflow: hidden;padding: 0;position: absolute;width: 1px;}#sk-container-id-1 div.sk-estimator {font-family: monospace;background-color: #f0f8ff;border: 1px dotted black;border-radius: 0.25em;box-sizing: border-box;margin-bottom: 0.5em;}#sk-container-id-1 div.sk-estimator:hover {background-color: #d4ebff;}#sk-container-id-1 div.sk-parallel-item::after {content: \"\";width: 100%;border-bottom: 1px solid gray;flex-grow: 1;}#sk-container-id-1 div.sk-label:hover label.sk-toggleable__label {background-color: #d4ebff;}#sk-container-id-1 div.sk-serial::before {content: \"\";position: absolute;border-left: 1px solid gray;box-sizing: border-box;top: 0;bottom: 0;left: 50%;z-index: 0;}#sk-container-id-1 div.sk-serial {display: flex;flex-direction: column;align-items: center;background-color: white;padding-right: 0.2em;padding-left: 0.2em;position: relative;}#sk-container-id-1 div.sk-item {position: relative;z-index: 1;}#sk-container-id-1 div.sk-parallel {display: flex;align-items: stretch;justify-content: center;background-color: white;position: relative;}#sk-container-id-1 div.sk-item::before, #sk-container-id-1 div.sk-parallel-item::before {content: \"\";position: absolute;border-left: 1px solid gray;box-sizing: border-box;top: 0;bottom: 0;left: 50%;z-index: -1;}#sk-container-id-1 div.sk-parallel-item {display: flex;flex-direction: column;z-index: 1;position: relative;background-color: white;}#sk-container-id-1 div.sk-parallel-item:first-child::after {align-self: flex-end;width: 50%;}#sk-container-id-1 div.sk-parallel-item:last-child::after {align-self: flex-start;width: 50%;}#sk-container-id-1 div.sk-parallel-item:only-child::after {width: 0;}#sk-container-id-1 div.sk-dashed-wrapped {border: 1px dashed gray;margin: 0 0.4em 0.5em 0.4em;box-sizing: border-box;padding-bottom: 0.4em;background-color: white;}#sk-container-id-1 div.sk-label label {font-family: monospace;font-weight: bold;display: inline-block;line-height: 1.2em;}#sk-container-id-1 div.sk-label-container {text-align: center;}#sk-container-id-1 div.sk-container {/* jupyter's `normalize.less` sets `[hidden] { display: none; }` but bootstrap.min.css set `[hidden] { display: none !important; }` so we also need the `!important` here to be able to override the default hidden behavior on the sphinx rendered scikit-learn.org. See: https://github.com/scikit-learn/scikit-learn/issues/21755 */display: inline-block !important;position: relative;}#sk-container-id-1 div.sk-text-repr-fallback {display: none;}</style><div id=\"sk-container-id-1\" class=\"sk-top-container\"><div class=\"sk-text-repr-fallback\"><pre>XGBClassifier(base_score=None, booster=None, callbacks=None,\n",
       "              colsample_bylevel=None, colsample_bynode=None,\n",
       "              colsample_bytree=0.95, early_stopping_rounds=None,\n",
       "              enable_categorical=False, eval_metric=None, feature_types=None,\n",
       "              gamma=0.5, gpu_id=None, grow_policy=None, importance_type=None,\n",
       "              interaction_constraints=None, learning_rate=0.05, max_bin=None,\n",
       "              max_cat_threshold=None, max_cat_to_onehot=None,\n",
       "              max_delta_step=None, max_depth=7, max_leaves=None,\n",
       "              min_child_weight=8, missing=nan, monotone_constraints=None,\n",
       "              n_estimators=850, n_jobs=None, num_parallel_tree=None,\n",
       "              predictor=None, random_state=None, ...)</pre><b>In a Jupyter environment, please rerun this cell to show the HTML representation or trust the notebook. <br />On GitHub, the HTML representation is unable to render, please try loading this page with nbviewer.org.</b></div><div class=\"sk-container\" hidden><div class=\"sk-item\"><div class=\"sk-estimator sk-toggleable\"><input class=\"sk-toggleable__control sk-hidden--visually\" id=\"sk-estimator-id-1\" type=\"checkbox\" checked><label for=\"sk-estimator-id-1\" class=\"sk-toggleable__label sk-toggleable__label-arrow\">XGBClassifier</label><div class=\"sk-toggleable__content\"><pre>XGBClassifier(base_score=None, booster=None, callbacks=None,\n",
       "              colsample_bylevel=None, colsample_bynode=None,\n",
       "              colsample_bytree=0.95, early_stopping_rounds=None,\n",
       "              enable_categorical=False, eval_metric=None, feature_types=None,\n",
       "              gamma=0.5, gpu_id=None, grow_policy=None, importance_type=None,\n",
       "              interaction_constraints=None, learning_rate=0.05, max_bin=None,\n",
       "              max_cat_threshold=None, max_cat_to_onehot=None,\n",
       "              max_delta_step=None, max_depth=7, max_leaves=None,\n",
       "              min_child_weight=8, missing=nan, monotone_constraints=None,\n",
       "              n_estimators=850, n_jobs=None, num_parallel_tree=None,\n",
       "              predictor=None, random_state=None, ...)</pre></div></div></div></div></div>"
      ],
      "text/plain": [
       "XGBClassifier(base_score=None, booster=None, callbacks=None,\n",
       "              colsample_bylevel=None, colsample_bynode=None,\n",
       "              colsample_bytree=0.95, early_stopping_rounds=None,\n",
       "              enable_categorical=False, eval_metric=None, feature_types=None,\n",
       "              gamma=0.5, gpu_id=None, grow_policy=None, importance_type=None,\n",
       "              interaction_constraints=None, learning_rate=0.05, max_bin=None,\n",
       "              max_cat_threshold=None, max_cat_to_onehot=None,\n",
       "              max_delta_step=None, max_depth=7, max_leaves=None,\n",
       "              min_child_weight=8, missing=nan, monotone_constraints=None,\n",
       "              n_estimators=850, n_jobs=None, num_parallel_tree=None,\n",
       "              predictor=None, random_state=None, ...)"
      ]
     },
     "execution_count": 11,
     "metadata": {},
     "output_type": "execute_result"
    }
   ],
   "source": [
    "best_boost = xgb.XGBClassifier(subsample=0.7, scale_pos_weight=1, reg_lambda=0.3, \n",
    "                               reg_alpha=0.4, n_estimators=850, min_child_weight=8, \n",
    "                               max_depth=7, learning_rate=0.05, gamma=0.5, \n",
    "                               colsample_bytree=0.95)\n",
    "\n",
    "best_boost.fit(X_train, Y_train)"
   ]
  },
  {
   "cell_type": "code",
   "execution_count": null,
   "metadata": {},
   "outputs": [],
   "source": [
    "X_test_sans_ID = X_test.drop('ID',axis=1)"
   ]
  },
  {
   "cell_type": "code",
   "execution_count": null,
   "metadata": {},
   "outputs": [],
   "source": [
    "Y_pred = best_boost.predict(X_test_sans_ID)"
   ]
  },
  {
   "cell_type": "code",
   "execution_count": null,
   "metadata": {},
   "outputs": [
    {
     "data": {
      "text/plain": [
       "<Axes: title={'center': 'Feature importance'}, xlabel='F score', ylabel='Features'>"
      ]
     },
     "execution_count": 18,
     "metadata": {},
     "output_type": "execute_result"
    },
    {
     "data": {
      "image/png": "[encoded data removed]",
      "text/plain": [
       "<Figure size 640x480 with 1 Axes>"
      ]
     },
     "metadata": {},
     "output_type": "display_data"
    }
   ],
   "source": [
    "xgb.plot_importance(best_boost)"
   ]
  }
 ],
 "metadata": {
  "kernelspec": {
   "display_name": "Python 3",
   "language": "python",
   "name": "python3"
  },
  "language_info": {
   "codemirror_mode": {
    "name": "ipython",
    "version": 3
   },
   "file_extension": ".py",
   "mimetype": "text/x-python",
   "name": "python",
   "nbconvert_exporter": "python",
   "pygments_lexer": "ipython3",
   "version": "3.10.7"
  },
  "orig_nbformat": 4
 },
 "nbformat": 4,
 "nbformat_minor": 2
}
