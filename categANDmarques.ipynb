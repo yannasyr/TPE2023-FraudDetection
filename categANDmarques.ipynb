{
 "cells": [
  {
   "cell_type": "markdown",
   "metadata": {},
   "source": [
    "<div style=\"background-color: #a7d9b6; color: black; padding: 20px\">\n",
    "  <h1 style=\"text-align: center\"><strong>TPE Yann Inas 2023</strong></h1>\n",
    "  <h2 style=\"text-align: center\"><em>Détection de fraude bancaire</em></h2>\n",
    "</div>\n",
    "\n",
    "<!-- Pour le mode sombre -->\n",
    "\n",
    "<style>\n",
    "@media (prefers-color-scheme: dark) {\n",
    "  div {\n",
    "    background-color: #303030;\n",
    "    color: white;\n",
    "  }\n",
    "}\n",
    "</style>\n"
   ]
  },
  {
   "attachments": {},
   "cell_type": "markdown",
   "metadata": {},
   "source": [
    "# 1. Imports"
   ]
  },
  {
   "cell_type": "code",
   "execution_count": 2,
   "metadata": {},
   "outputs": [],
   "source": [
    "import numpy as np \n",
    "import matplotlib.pyplot as plt\n",
    "import pandas as pd\n",
    "import seaborn as sns\n",
    "\n",
    "from sklearn.model_selection import train_test_split\n",
    "from sklearn.metrics import average_precision_score\n",
    "from sklearn.metrics import confusion_matrix\n",
    "\n",
    "import xgboost as xgb"
   ]
  },
  {
   "cell_type": "code",
   "execution_count": 3,
   "metadata": {},
   "outputs": [],
   "source": [
    "DATA_x = pd.read_csv('data/X_train_G3tdtEn.csv', delimiter = ',',encoding = 'latin1', low_memory=False)\n",
    "DATA_y = pd.read_csv('data/Y_train_2_XPXJDyy.csv', delimiter = ',',encoding = 'latin1', low_memory=False)"
   ]
  },
  {
   "cell_type": "code",
   "execution_count": 19,
   "metadata": {},
   "outputs": [],
   "source": [
    "df_marques = pd.read_csv('data/df_make_save.csv', delimiter = ',',encoding = 'latin1', low_memory=False)\n",
    "df_categs = pd.read_csv('data/df_categ_save.csv', delimiter = ',',encoding = 'latin1', low_memory=False)"
   ]
  },
  {
   "cell_type": "code",
   "execution_count": 20,
   "metadata": {},
   "outputs": [],
   "source": [
    "df_marques = df_marques.drop(\"Unnamed: 0\", axis=1).drop('nan',axis=1)\n",
    "df_categs = df_categs.drop(\"Unnamed: 0\", axis=1).drop('nan',axis=1)"
   ]
  },
  {
   "attachments": {},
   "cell_type": "markdown",
   "metadata": {},
   "source": [
    "# 2. Simplications des classes"
   ]
  },
  {
   "attachments": {},
   "cell_type": "markdown",
   "metadata": {},
   "source": [
    "On a vu dans le notebook \"*categories.ipynb*\" qu'on pouvait garder une trentaine de catégories, qui ont + de 10 achats et + de 1% de fraudes"
   ]
  },
  {
   "cell_type": "code",
   "execution_count": 44,
   "metadata": {},
   "outputs": [
    {
     "name": "stderr",
     "output_type": "stream",
     "text": [
      "C:\\Users\\kille\\AppData\\Local\\Temp\\ipykernel_7776\\1495732712.py:18: SettingWithCopyWarning: \n",
      "A value is trying to be set on a copy of a slice from a DataFrame.\n",
      "Try using .loc[row_indexer,col_indexer] = value instead\n",
      "\n",
      "See the caveats in the documentation: https://pandas.pydata.org/pandas-docs/stable/user_guide/indexing.html#returning-a-view-versus-a-copy\n",
      "  df_less_categ['ID'] = merged_plus_x_achats['ID']\n"
     ]
    }
   ],
   "source": [
    "achats_par_colonne = df_categs.sum()\n",
    "x_achats = 10\n",
    "colonnes_plus_de_x_achats = achats_par_colonne[achats_par_colonne > x_achats].index\n",
    "\n",
    "# Sélectionner uniquement les colonnes qui ont plus de 10 achats\n",
    "df_plus_de_x_achats = df_categs[colonnes_plus_de_x_achats]\n",
    "\n",
    "merged_plus_x_achats = pd.merge(df_plus_de_x_achats,DATA_y,on='ID')\n",
    "merged_plus_x_achats_fraud = merged_plus_x_achats[merged_plus_x_achats['fraud_flag'] == 1]\n",
    "\n",
    "tab1 = merged_plus_x_achats_fraud.drop(\"ID\",axis=1).drop(\"index\",axis=1).drop(\"fraud_flag\",axis=1).sum()\n",
    "tab2 = merged_plus_x_achats.drop(\"ID\",axis=1).drop(\"index\",axis=1).drop(\"fraud_flag\",axis=1).sum()\n",
    "tab3 = 100 * tab1 / (tab1 + tab2)\n",
    "\n",
    "categ_frauduleuses_pourcentage = tab3[tab3 > 1].index\n",
    "\n",
    "df_less_categ = merged_plus_x_achats[categ_frauduleuses_pourcentage]\n",
    "df_less_categ['ID'] = merged_plus_x_achats['ID']\n",
    "\n",
    "df_less_categ = df_less_categ.fillna(0)"
   ]
  },
  {
   "attachments": {},
   "cell_type": "markdown",
   "metadata": {},
   "source": [
    "On a vu dans le notebook \"*marques.ipynb*\" qu'on pouvait garder une trentaine de marques, qui ont + de 20 achats et + de 0.1% de fraudes"
   ]
  },
  {
   "cell_type": "code",
   "execution_count": 55,
   "metadata": {},
   "outputs": [
    {
     "name": "stderr",
     "output_type": "stream",
     "text": [
      "C:\\Users\\kille\\AppData\\Local\\Temp\\ipykernel_7776\\3602801688.py:18: SettingWithCopyWarning: \n",
      "A value is trying to be set on a copy of a slice from a DataFrame.\n",
      "Try using .loc[row_indexer,col_indexer] = value instead\n",
      "\n",
      "See the caveats in the documentation: https://pandas.pydata.org/pandas-docs/stable/user_guide/indexing.html#returning-a-view-versus-a-copy\n",
      "  df_less_marques['ID'] = merged_plus_x_achats['ID']\n"
     ]
    }
   ],
   "source": [
    "achats_par_colonne = df_marques.sum()\n",
    "x_achats = 10\n",
    "colonnes_plus_de_x_achats = achats_par_colonne[achats_par_colonne > x_achats].index\n",
    "\n",
    "# Sélectionner uniquement les colonnes qui ont plus de 10 achats\n",
    "df_plus_de_x_achats = df_marques[colonnes_plus_de_x_achats]\n",
    "\n",
    "merged_plus_x_achats = pd.merge(df_plus_de_x_achats,DATA_y,on='ID')\n",
    "merged_plus_x_achats_fraud = merged_plus_x_achats[merged_plus_x_achats['fraud_flag'] == 1]\n",
    "\n",
    "tab1 = merged_plus_x_achats_fraud.drop(\"ID\",axis=1).drop(\"index\",axis=1).drop(\"fraud_flag\",axis=1).sum()\n",
    "tab2 = merged_plus_x_achats.drop(\"ID\",axis=1).drop(\"index\",axis=1).drop(\"fraud_flag\",axis=1).sum()\n",
    "tab3 = 100 * tab1 / (tab1 + tab2)\n",
    "\n",
    "categ_frauduleuses_pourcentage = tab3[tab3 > 1].index\n",
    "\n",
    "df_less_marques = merged_plus_x_achats[categ_frauduleuses_pourcentage]\n",
    "df_less_marques['ID'] = merged_plus_x_achats['ID']\n",
    "\n",
    "df_less_marques = df_less_marques.fillna(0)"
   ]
  },
  {
   "cell_type": "code",
   "execution_count": 56,
   "metadata": {},
   "outputs": [],
   "source": [
    "df_less_concat = pd.merge(df_less_categ,df_less_marques,on=\"ID\")"
   ]
  },
  {
   "cell_type": "code",
   "execution_count": 57,
   "metadata": {},
   "outputs": [],
   "source": [
    "df_less_concat['Nb_of_items'] = DATA_x['Nb_of_items']\n",
    "\n",
    "cash_price_columns = [\"cash_price\" + str(i) for i in range(1, 5)]\n",
    "X_cash_price = DATA_x[cash_price_columns]\n",
    "df_less_concat = pd.concat([df_less_concat, X_cash_price], axis=1)\n",
    "df_less_concat = df_less_concat.fillna(0)"
   ]
  },
  {
   "cell_type": "code",
   "execution_count": 58,
   "metadata": {},
   "outputs": [
    {
     "data": {
      "text/plain": [
       "Index(['AUDIO ACCESSORIES', 'BABY CHANGING', 'BABY CHILD TRAVEL',\n",
       "       'BABY FEEDING', 'BABYWEAR', 'BARWARE', 'BLANK MEDIA MEDIA STORAGE',\n",
       "       'CARPETS, RUGS & FLOORING', 'COMPUTERS', 'COOKWARE', 'FOOD PREPARATION',\n",
       "       'FRAGRANCE', 'FULFILMENT CHARGE', 'GAMING', 'HI-FI',\n",
       "       'HOME AND PERSONAL SECURITY', 'IMAGING EQUIPMENT', 'JEWELLERY WATCHES',\n",
       "       'MEN S CLOTHES', 'MEN S FOOTWEAR', 'POWER BATTERIES', 'TABLEWARE',\n",
       "       'TELEPHONES FAX MACHINES TWO-WAY RADIOS',\n",
       "       'TELEPHONES, FAX MACHINES & TWO-WAY RADIOS', 'WOMEN S CLOTHES', 'ID',\n",
       "       'ANGLEPOISE', 'APPLE', 'BT', 'BUGABOO', 'CHICCO', 'CYBEX', 'DELL',\n",
       "       'DENBY', 'KARTELL', 'LE CREUSET', 'LEVI S', 'LOUIS DE POORTERE',\n",
       "       'MAXI-COSI', 'NIKON', 'OXO', 'OYSTER', 'PANASONIC', 'PHILIPS',\n",
       "       'RETAILER', 'RING', 'ROBERT WELCH', 'SAMSUNG', 'SHNUGGLE',\n",
       "       'SILVER CROSS', 'TEMPUR', 'TOMMEE TIPPEE', 'Nb_of_items', 'cash_price1',\n",
       "       'cash_price2', 'cash_price3', 'cash_price4'],\n",
       "      dtype='object')"
      ]
     },
     "execution_count": 58,
     "metadata": {},
     "output_type": "execute_result"
    }
   ],
   "source": [
    "df_less_concat.columns"
   ]
  },
  {
   "attachments": {},
   "cell_type": "markdown",
   "metadata": {},
   "source": [
    "# 3. Test de modèles"
   ]
  },
  {
   "cell_type": "code",
   "execution_count": 67,
   "metadata": {},
   "outputs": [],
   "source": [
    "avg_preci = []\n",
    "confusion = []\n",
    "for i in range(100):\n",
    "    X_train, X_test, Y_train, Y_test = train_test_split(df_less_concat, DATA_y, test_size = 0.2)\n",
    "    Y_train = Y_train.drop(\"ID\",axis=1).drop(\"index\",axis=1)\n",
    "    Y_test = Y_test.drop(\"ID\", axis=1).drop(\"index\",axis=1)\n",
    "    boost2 = xgb.XGBClassifier()\n",
    "    boost2.fit(X_train, Y_train)\n",
    "    y_pred2 = boost2.predict(X_test)\n",
    "\n",
    "    tn, fp, fn, tp = confusion_matrix(Y_test, y_pred2).ravel()\n",
    "    avg_preci.append(average_precision_score(Y_test, y_pred2))\n",
    "    confusion.append((tn, fp, fn, tp))"
   ]
  },
  {
   "cell_type": "code",
   "execution_count": 68,
   "metadata": {},
   "outputs": [
    {
     "name": "stdout",
     "output_type": "stream",
     "text": [
      "Moyenne des average precision : 0.1042325786686801\n"
     ]
    }
   ],
   "source": [
    "print(\"Moyenne des average precision :\", sum(avg_preci)/len(avg_preci))"
   ]
  },
  {
   "cell_type": "code",
   "execution_count": 69,
   "metadata": {},
   "outputs": [
    {
     "data": {
      "image/png": "[encoded data removed]",
      "text/plain": [
       "<Figure size 900x600 with 2 Axes>"
      ]
     },
     "metadata": {},
     "output_type": "display_data"
    }
   ],
   "source": [
    "# Calculer la moyenne de chaque élément de la matrice de confusion\n",
    "avg_confusion = np.mean(confusion, axis=0)\n",
    "\n",
    "# Créer une matrice de confusion en utilisant la moyenne\n",
    "confusion_array = np.array([[avg_confusion[0], avg_confusion[1]], [avg_confusion[2], avg_confusion[3]]])\n",
    "\n",
    "# Créer une heatmap à partir de la matrice de confusion\n",
    "plt.figure(figsize=(9,6))\n",
    "sns.heatmap(confusion_array, annot=True, cmap='Blues', fmt=\".0f\")\n",
    "plt.xlabel('Predicted label')\n",
    "plt.ylabel('True label')\n",
    "plt.show()"
   ]
  },
  {
   "attachments": {},
   "cell_type": "markdown",
   "metadata": {},
   "source": [
    "### Jouer avec les paramètres du XGBoost "
   ]
  },
  {
   "cell_type": "code",
   "execution_count": 4,
   "metadata": {},
   "outputs": [
    {
     "ename": "NameError",
     "evalue": "name 'df_less_concat' is not defined",
     "output_type": "error",
     "traceback": [
      "\u001b[1;31m---------------------------------------------------------------------------\u001b[0m",
      "\u001b[1;31mNameError\u001b[0m                                 Traceback (most recent call last)",
      "\u001b[1;32md:\\dossier_git\\TPE2023-FraudDetection\\categANDmarques.ipynb Cell 20\u001b[0m in \u001b[0;36m<cell line: 1>\u001b[1;34m()\u001b[0m\n\u001b[1;32m----> <a href='vscode-notebook-cell:/d%3A/dossier_git/TPE2023-FraudDetection/categANDmarques.ipynb#X25sZmlsZQ%3D%3D?line=0'>1</a>\u001b[0m X_train, X_test, Y_train, Y_test \u001b[39m=\u001b[39m train_test_split(df_less_concat, DATA_y, test_size \u001b[39m=\u001b[39m \u001b[39m0.2\u001b[39m, random_state\u001b[39m=\u001b[39m\u001b[39m1\u001b[39m)\n\u001b[0;32m      <a href='vscode-notebook-cell:/d%3A/dossier_git/TPE2023-FraudDetection/categANDmarques.ipynb#X25sZmlsZQ%3D%3D?line=1'>2</a>\u001b[0m Y_train \u001b[39m=\u001b[39m Y_train\u001b[39m.\u001b[39mdrop(\u001b[39m\"\u001b[39m\u001b[39mID\u001b[39m\u001b[39m\"\u001b[39m,axis\u001b[39m=\u001b[39m\u001b[39m1\u001b[39m)\u001b[39m.\u001b[39mdrop(\u001b[39m\"\u001b[39m\u001b[39mindex\u001b[39m\u001b[39m\"\u001b[39m,axis\u001b[39m=\u001b[39m\u001b[39m1\u001b[39m)\n\u001b[0;32m      <a href='vscode-notebook-cell:/d%3A/dossier_git/TPE2023-FraudDetection/categANDmarques.ipynb#X25sZmlsZQ%3D%3D?line=2'>3</a>\u001b[0m Y_test \u001b[39m=\u001b[39m Y_test\u001b[39m.\u001b[39mdrop(\u001b[39m\"\u001b[39m\u001b[39mID\u001b[39m\u001b[39m\"\u001b[39m, axis\u001b[39m=\u001b[39m\u001b[39m1\u001b[39m)\u001b[39m.\u001b[39mdrop(\u001b[39m\"\u001b[39m\u001b[39mindex\u001b[39m\u001b[39m\"\u001b[39m,axis\u001b[39m=\u001b[39m\u001b[39m1\u001b[39m)\n",
      "\u001b[1;31mNameError\u001b[0m: name 'df_less_concat' is not defined"
     ]
    }
   ],
   "source": [
    "X_train, X_test, Y_train, Y_test = train_test_split(df_less_concat, DATA_y, test_size = 0.2, random_state=1)\n",
    "Y_train = Y_train.drop(\"ID\",axis=1).drop(\"index\",axis=1)\n",
    "Y_test = Y_test.drop(\"ID\", axis=1).drop(\"index\",axis=1)"
   ]
  },
  {
   "cell_type": "code",
   "execution_count": 78,
   "metadata": {},
   "outputs": [],
   "source": [
    "X_train.to_csv(\"data/X_train.csv\", sep=',',encoding = 'latin1')\n",
    "Y_train.to_csv(\"data/Y_train.csv\", sep=',',encoding = 'latin1')\n",
    "X_test.to_csv(\"data/X_test.csv\", sep=',',encoding = 'latin1')\n",
    "Y_test.to_csv(\"data/Y_test.csv\", sep=',',encoding = 'latin1')"
   ]
  },
  {
   "cell_type": "code",
   "execution_count": 83,
   "metadata": {},
   "outputs": [
    {
     "name": "stdout",
     "output_type": "stream",
     "text": [
      "0.13015677720976257\n"
     ]
    }
   ],
   "source": [
    "boost2 = xgb.XGBClassifier()\n",
    "boost2.fit(X_train, Y_train)\n",
    "y_pred2 = boost2.predict(X_test)\n",
    "\n",
    "print(average_precision_score(Y_test, y_pred2))"
   ]
  },
  {
   "attachments": {},
   "cell_type": "markdown",
   "metadata": {},
   "source": [
    "J'ai utilisé RandomGridCV mais sur Google Collab pour profiter du GPU. Les hyperparamètres suivant en découlent."
   ]
  },
  {
   "cell_type": "code",
   "execution_count": 84,
   "metadata": {},
   "outputs": [
    {
     "name": "stdout",
     "output_type": "stream",
     "text": [
      "0.15726139817331086\n"
     ]
    }
   ],
   "source": [
    "best_boost = xgb.XGBClassifier(subsample=0.8, scale_pos_weight=1, reg_lambda=0.0, \n",
    "                               reg_alpha=0.6, n_estimators=750, min_child_weight=7, \n",
    "                               max_depth=8, learning_rate=0.1, gamma=0.2, \n",
    "                               colsample_bytree=0.9)\n",
    "best_boost.fit(X_train, Y_train)\n",
    "y_pred2 = best_boost.predict(X_test)\n",
    "\n",
    "print(average_precision_score(Y_test, y_pred2))"
   ]
  },
  {
   "attachments": {},
   "cell_type": "markdown",
   "metadata": {},
   "source": [
    "Maintenant, si on fait pour plusieurs répartitions : "
   ]
  },
  {
   "cell_type": "code",
   "execution_count": 89,
   "metadata": {},
   "outputs": [],
   "source": [
    "avg_preci2 = []\n",
    "confusion2 = []\n",
    "for i in range(20):\n",
    "    X_train, X_test, Y_train, Y_test = train_test_split(df_less_concat, DATA_y, test_size = 0.2)\n",
    "    Y_train = Y_train.drop(\"ID\",axis=1).drop(\"index\",axis=1)\n",
    "    Y_test = Y_test.drop(\"ID\", axis=1).drop(\"index\",axis=1)\n",
    "    best_boost = xgb.XGBClassifier(subsample=0.8, scale_pos_weight=1, reg_lambda=0.0, \n",
    "                               reg_alpha=0.6, n_estimators=750, min_child_weight=7, \n",
    "                               max_depth=8, learning_rate=0.1, gamma=0.2, \n",
    "                               colsample_bytree=0.9)\n",
    "    best_boost.fit(X_train, Y_train)\n",
    "    y_pred2 = best_boost.predict(X_test)\n",
    "\n",
    "    tn, fp, fn, tp = confusion_matrix(Y_test, y_pred2).ravel()\n",
    "    avg_preci2.append(average_precision_score(Y_test, y_pred2))\n",
    "    confusion2.append((tn, fp, fn, tp))"
   ]
  },
  {
   "cell_type": "code",
   "execution_count": 90,
   "metadata": {},
   "outputs": [
    {
     "name": "stdout",
     "output_type": "stream",
     "text": [
      "Moyenne des average precision : 0.11280074438578165\n"
     ]
    }
   ],
   "source": [
    "print(\"Moyenne des average precision :\", sum(avg_preci2)/len(avg_preci2))"
   ]
  },
  {
   "cell_type": "code",
   "execution_count": 91,
   "metadata": {},
   "outputs": [],
   "source": [
    "avg_preci2 = []\n",
    "confusion2 = []\n",
    "for i in range(10):\n",
    "    X_train, X_test, Y_train, Y_test = train_test_split(df_less_concat, DATA_y, test_size = 0.2)\n",
    "    Y_train = Y_train.drop(\"ID\",axis=1).drop(\"index\",axis=1)\n",
    "    Y_test = Y_test.drop(\"ID\", axis=1).drop(\"index\",axis=1)\n",
    "    best_boost = xgb.XGBClassifier(subsample=0.7, scale_pos_weight=1, reg_lambda=0.5, \n",
    "                               reg_alpha=0.3, n_estimators=500, min_child_weight=7, \n",
    "                               max_depth=10, learning_rate=0.2, gamma=0.1, \n",
    "                               colsample_bytree=0.6)\n",
    "    best_boost.fit(X_train, Y_train)\n",
    "    y_pred2 = best_boost.predict(X_test)\n",
    "\n",
    "    tn, fp, fn, tp = confusion_matrix(Y_test, y_pred2).ravel()\n",
    "    avg_preci2.append(average_precision_score(Y_test, y_pred2))\n",
    "    confusion2.append((tn, fp, fn, tp))"
   ]
  },
  {
   "cell_type": "code",
   "execution_count": 92,
   "metadata": {},
   "outputs": [
    {
     "name": "stdout",
     "output_type": "stream",
     "text": [
      "Moyenne des average precision : 0.11346912206159802\n"
     ]
    }
   ],
   "source": [
    "print(\"Moyenne des average precision :\", sum(avg_preci2)/len(avg_preci2))"
   ]
  },
  {
   "cell_type": "code",
   "execution_count": 93,
   "metadata": {},
   "outputs": [],
   "source": [
    "avg_preci2 = []\n",
    "confusion2 = []\n",
    "for i in range(10):\n",
    "    X_train, X_test, Y_train, Y_test = train_test_split(df_less_concat, DATA_y, test_size = 0.2)\n",
    "    Y_train = Y_train.drop(\"ID\",axis=1).drop(\"index\",axis=1)\n",
    "    Y_test = Y_test.drop(\"ID\", axis=1).drop(\"index\",axis=1)\n",
    "    best_boost = xgb.XGBClassifier(subsample=0.85, scale_pos_weight=1, reg_lambda=0.8, \n",
    "                               reg_alpha=0.7, n_estimators=700, min_child_weight=4, \n",
    "                               max_depth=5, learning_rate=0.2, gamma=0.0, \n",
    "                               colsample_bytree=0.9)\n",
    "    best_boost.fit(X_train, Y_train)\n",
    "    y_pred2 = best_boost.predict(X_test)\n",
    "\n",
    "    tn, fp, fn, tp = confusion_matrix(Y_test, y_pred2).ravel()\n",
    "    avg_preci2.append(average_precision_score(Y_test, y_pred2))\n",
    "    confusion2.append((tn, fp, fn, tp))"
   ]
  },
  {
   "cell_type": "code",
   "execution_count": 94,
   "metadata": {},
   "outputs": [
    {
     "name": "stdout",
     "output_type": "stream",
     "text": [
      "Moyenne des average precision : 0.1141845535613196\n"
     ]
    }
   ],
   "source": [
    "print(\"Moyenne des average precision :\", sum(avg_preci2)/len(avg_preci2))"
   ]
  }
 ],
 "metadata": {
  "kernelspec": {
   "display_name": "Python 3",
   "language": "python",
   "name": "python3"
  },
  "language_info": {
   "codemirror_mode": {
    "name": "ipython",
    "version": 3
   },
   "file_extension": ".py",
   "mimetype": "text/x-python",
   "name": "python",
   "nbconvert_exporter": "python",
   "pygments_lexer": "ipython3",
   "version": "3.10.7"
  },
  "orig_nbformat": 4
 },
 "nbformat": 4,
 "nbformat_minor": 2
}
