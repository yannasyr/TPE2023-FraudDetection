{
 "cells": [
  {
   "attachments": {},
   "cell_type": "markdown",
   "metadata": {},
   "source": [
    "# Imports"
   ]
  },
  {
   "cell_type": "code",
   "execution_count": 23,
   "metadata": {},
   "outputs": [],
   "source": [
    "import numpy as np \n",
    "import matplotlib.pyplot as plt\n",
    "import pandas as pd\n",
    "import pretraitement\n",
    "\n",
    "from sklearn.model_selection import train_test_split\n",
    "from sklearn.utils import resample\n",
    "from sklearn.metrics import average_precision_score\n",
    "from sklearn.linear_model import LogisticRegression\n",
    "from sklearn.ensemble import RandomForestClassifier\n",
    "\n",
    "import xgboost as xgb\n"
   ]
  },
  {
   "cell_type": "code",
   "execution_count": 24,
   "metadata": {},
   "outputs": [],
   "source": [
    "DATA_x = pd.read_csv('data/X_train_G3tdtEn.csv', delimiter = ',',encoding = 'latin1', low_memory=False)\n",
    "DATA_y = pd.read_csv('data/Y_train_2_XPXJDyy.csv', delimiter = ',',encoding = 'latin1', low_memory=False)"
   ]
  },
  {
   "attachments": {},
   "cell_type": "markdown",
   "metadata": {},
   "source": [
    "# Prétraitement"
   ]
  },
  {
   "attachments": {},
   "cell_type": "markdown",
   "metadata": {},
   "source": [
    "On choisit quelles colonnes sont gardées. Pour le moment, on garde seulement ``ID``, ``cash_price1``,``cash_price2``,``cash_price3``"
   ]
  },
  {
   "cell_type": "code",
   "execution_count": 25,
   "metadata": {},
   "outputs": [
    {
     "data": {
      "text/html": [
       "<div>\n",
       "<style scoped>\n",
       "    .dataframe tbody tr th:only-of-type {\n",
       "        vertical-align: middle;\n",
       "    }\n",
       "\n",
       "    .dataframe tbody tr th {\n",
       "        vertical-align: top;\n",
       "    }\n",
       "\n",
       "    .dataframe thead th {\n",
       "        text-align: right;\n",
       "    }\n",
       "</style>\n",
       "<table border=\"1\" class=\"dataframe\">\n",
       "  <thead>\n",
       "    <tr style=\"text-align: right;\">\n",
       "      <th></th>\n",
       "      <th>ID</th>\n",
       "      <th>cash_price1</th>\n",
       "      <th>cash_price2</th>\n",
       "      <th>cash_price3</th>\n",
       "      <th>fraud_flag</th>\n",
       "    </tr>\n",
       "  </thead>\n",
       "  <tbody>\n",
       "    <tr>\n",
       "      <th>0</th>\n",
       "      <td>85517</td>\n",
       "      <td>889.0</td>\n",
       "      <td>NaN</td>\n",
       "      <td>NaN</td>\n",
       "      <td>0</td>\n",
       "    </tr>\n",
       "    <tr>\n",
       "      <th>1</th>\n",
       "      <td>51113</td>\n",
       "      <td>409.0</td>\n",
       "      <td>NaN</td>\n",
       "      <td>NaN</td>\n",
       "      <td>0</td>\n",
       "    </tr>\n",
       "    <tr>\n",
       "      <th>2</th>\n",
       "      <td>83008</td>\n",
       "      <td>1399.0</td>\n",
       "      <td>NaN</td>\n",
       "      <td>NaN</td>\n",
       "      <td>0</td>\n",
       "    </tr>\n",
       "    <tr>\n",
       "      <th>3</th>\n",
       "      <td>78712</td>\n",
       "      <td>689.0</td>\n",
       "      <td>119.0</td>\n",
       "      <td>NaN</td>\n",
       "      <td>0</td>\n",
       "    </tr>\n",
       "    <tr>\n",
       "      <th>4</th>\n",
       "      <td>77846</td>\n",
       "      <td>1199.0</td>\n",
       "      <td>NaN</td>\n",
       "      <td>NaN</td>\n",
       "      <td>0</td>\n",
       "    </tr>\n",
       "    <tr>\n",
       "      <th>...</th>\n",
       "      <td>...</td>\n",
       "      <td>...</td>\n",
       "      <td>...</td>\n",
       "      <td>...</td>\n",
       "      <td>...</td>\n",
       "    </tr>\n",
       "    <tr>\n",
       "      <th>92785</th>\n",
       "      <td>21243</td>\n",
       "      <td>299.0</td>\n",
       "      <td>7.0</td>\n",
       "      <td>NaN</td>\n",
       "      <td>0</td>\n",
       "    </tr>\n",
       "    <tr>\n",
       "      <th>92786</th>\n",
       "      <td>45891</td>\n",
       "      <td>898.0</td>\n",
       "      <td>NaN</td>\n",
       "      <td>NaN</td>\n",
       "      <td>0</td>\n",
       "    </tr>\n",
       "    <tr>\n",
       "      <th>92787</th>\n",
       "      <td>42613</td>\n",
       "      <td>519.0</td>\n",
       "      <td>259.0</td>\n",
       "      <td>949.0</td>\n",
       "      <td>0</td>\n",
       "    </tr>\n",
       "    <tr>\n",
       "      <th>92788</th>\n",
       "      <td>43567</td>\n",
       "      <td>1099.0</td>\n",
       "      <td>2099.0</td>\n",
       "      <td>NaN</td>\n",
       "      <td>0</td>\n",
       "    </tr>\n",
       "    <tr>\n",
       "      <th>92789</th>\n",
       "      <td>68268</td>\n",
       "      <td>799.0</td>\n",
       "      <td>NaN</td>\n",
       "      <td>NaN</td>\n",
       "      <td>0</td>\n",
       "    </tr>\n",
       "  </tbody>\n",
       "</table>\n",
       "<p>92790 rows × 5 columns</p>\n",
       "</div>"
      ],
      "text/plain": [
       "          ID  cash_price1  cash_price2  cash_price3  fraud_flag\n",
       "0      85517        889.0          NaN          NaN           0\n",
       "1      51113        409.0          NaN          NaN           0\n",
       "2      83008       1399.0          NaN          NaN           0\n",
       "3      78712        689.0        119.0          NaN           0\n",
       "4      77846       1199.0          NaN          NaN           0\n",
       "...      ...          ...          ...          ...         ...\n",
       "92785  21243        299.0          7.0          NaN           0\n",
       "92786  45891        898.0          NaN          NaN           0\n",
       "92787  42613        519.0        259.0        949.0           0\n",
       "92788  43567       1099.0       2099.0          NaN           0\n",
       "92789  68268        799.0          NaN          NaN           0\n",
       "\n",
       "[92790 rows x 5 columns]"
      ]
     },
     "execution_count": 25,
     "metadata": {},
     "output_type": "execute_result"
    }
   ],
   "source": [
    "selection_colonnes = ['ID'] + [\"cash_price\" + str(i) for i in range(1, 4)]\n",
    "df_prices = DATA_x[selection_colonnes]\n",
    "df_prices = pd.merge(df_prices, DATA_y, on='ID')\n",
    "df_prices = df_prices.drop(\"index\",axis=1)\n",
    "df_prices"
   ]
  },
  {
   "attachments": {},
   "cell_type": "markdown",
   "metadata": {},
   "source": [
    "# Test : sous-échantillonnage de la classe majoritaire"
   ]
  },
  {
   "attachments": {},
   "cell_type": "markdown",
   "metadata": {},
   "source": [
    "Actuellement, les paniers frauduleux ne représentent que **1%** de la BDD. \n",
    "\n",
    "L'idée est donc la suivante : \n",
    "- X -> X_train (80%) et X_test(20%)\n",
    "- Dans X_train, rééquilibrer les deux classes (de 99%-1% à 70%-30% par exemple)\n",
    "- Dans X_test, garder le déséquilibre pour tester la robustesse de notre modèle dans les cas réels (où les fraudes représente 1%)"
   ]
  },
  {
   "cell_type": "code",
   "execution_count": 26,
   "metadata": {},
   "outputs": [],
   "source": [
    "Y = df_prices[['ID','fraud_flag']] #On garde aussi l'ID au cas où on est besoin de merge des dataFrames X/Y plus tard\n",
    "X = df_prices.drop(\"fraud_flag\", axis=1)\n",
    "X = X.fillna(0) #Les modeles ne gérent pas les NaN -> on les remplace par des 0\n",
    "\n",
    "X_train, X_test, Y_train, Y_test = train_test_split(X, Y, test_size = 0.2, random_state=42)"
   ]
  },
  {
   "cell_type": "code",
   "execution_count": 27,
   "metadata": {},
   "outputs": [],
   "source": [
    "X_test = X_test.drop(\"ID\", axis=1)\n",
    "Y_test = Y_test.drop(\"ID\", axis=1)"
   ]
  },
  {
   "attachments": {},
   "cell_type": "markdown",
   "metadata": {},
   "source": [
    "### Statistiques"
   ]
  },
  {
   "cell_type": "code",
   "execution_count": 28,
   "metadata": {},
   "outputs": [
    {
     "name": "stdout",
     "output_type": "stream",
     "text": [
      "Nombre de perfect :  91471  ( 98.58 %)\n",
      "Nombre de fraudes :  1319  ( 1.42 %)\n",
      "Nombre de perfect dans Y_train :  73185  ( 98.59 %)\n",
      "Nombre de fraudes dans Y_train :  1047  ( 1.41 %)\n",
      "Nombre de perfect dans Y_test :  18286  ( 98.53 %)\n",
      "Nombre de fraudes dans Y_test :  272  ( 1.47 %)\n"
     ]
    }
   ],
   "source": [
    "nb_perfect_X = df_prices[df_prices['fraud_flag'] == 0].shape[0]\n",
    "nb_fraude_X = df_prices[df_prices['fraud_flag'] == 1].shape[0]\n",
    "nb_perfect_train = Y_train['fraud_flag'].value_counts(normalize=False)[0]\n",
    "nb_fraude_train = Y_train['fraud_flag'].value_counts(normalize=False)[1]\n",
    "nb_perfect_test = Y_test['fraud_flag'].value_counts(normalize=False)[0]\n",
    "nb_fraude_test = Y_test['fraud_flag'].value_counts(normalize=False)[1]\n",
    "\n",
    "total_X = nb_perfect_X + nb_fraude_X\n",
    "total_train = nb_perfect_train + nb_fraude_train\n",
    "total_test = nb_perfect_test + nb_fraude_test\n",
    "\n",
    "percent_perfect_X = round(100*nb_perfect_X/total_X, 2)\n",
    "percent_fraude_X = round(100*nb_fraude_X/total_X, 2)\n",
    "percent_perfect_train = round(100*nb_perfect_train/total_train, 2)\n",
    "percent_fraude_train = round(100*nb_fraude_train/total_train, 2)\n",
    "percent_perfect_test = round(100*nb_perfect_test/total_test, 2)\n",
    "percent_fraude_test = round(100*nb_fraude_test/total_test, 2)\n",
    "\n",
    "print(\"Nombre de perfect : \", nb_perfect_X, \" (\", percent_perfect_X, \"%)\")\n",
    "print(\"Nombre de fraudes : \", nb_fraude_X, \" (\", percent_fraude_X, \"%)\")\n",
    "print(\"Nombre de perfect dans Y_train : \", nb_perfect_train, \" (\", percent_perfect_train, \"%)\")\n",
    "print(\"Nombre de fraudes dans Y_train : \", nb_fraude_train, \" (\", percent_fraude_train, \"%)\")\n",
    "print(\"Nombre de perfect dans Y_test : \", nb_perfect_test, \" (\", percent_perfect_test, \"%)\")\n",
    "print(\"Nombre de fraudes dans Y_test : \", nb_fraude_test, \" (\", percent_fraude_test, \"%)\")\n"
   ]
  },
  {
   "attachments": {},
   "cell_type": "markdown",
   "metadata": {},
   "source": [
    "### Sous-échantillonnage"
   ]
  },
  {
   "cell_type": "code",
   "execution_count": 29,
   "metadata": {},
   "outputs": [],
   "source": [
    "def sous_echantillonnage(X_train, Y_train, pourcentage_fraud) : \n",
    "\n",
    "    XY_train = pd.merge(X_train, Y_train, on='ID')\n",
    "\n",
    "    # Séparation des données frauduleuses et non-frauduleuses\n",
    "    fraud = XY_train[XY_train['fraud_flag'] == 1]\n",
    "    not_fraud = XY_train[XY_train['fraud_flag'] == 0]\n",
    "    \n",
    "    nb_samples = int( (100 - pourcentage_fraud) * len(fraud) / pourcentage_fraud ) \n",
    "\n",
    "    not_fraud_sampled = resample(not_fraud, replace=False, n_samples=nb_samples, random_state=42)\n",
    "\n",
    "    # Concaténation des données frauduleuses et non-frauduleuses sous-échantillonnées\n",
    "    data_sampled = pd.concat([fraud, not_fraud_sampled])\n",
    "\n",
    "    # Mélange des données pour éviter les biais\n",
    "    data_sampled = data_sampled.sample(frac=1, random_state=42)\n",
    "\n",
    "    Y_train = data_sampled['fraud_flag']\n",
    "    X_train = data_sampled.drop('ID',axis=1)\n",
    "    X_train = X_train.drop(\"fraud_flag\", axis=1)\n",
    "\n",
    "    nb_perfect_sampled = data_sampled['fraud_flag'].value_counts(normalize=False)[0]\n",
    "    nb_fraude_sampled = data_sampled['fraud_flag'].value_counts(normalize=False)[1]\n",
    "\n",
    "    print(\"Nombre de perfect dans data_sampled : \", nb_perfect_sampled, \" (\", \"{:.2f}\".format(100 - 100*nb_fraude_sampled/(nb_perfect_sampled+nb_fraude_sampled)), \"%)\")\n",
    "    print(\"Nombre de fraudes dans data_sampled : \", nb_fraude_sampled, \" (\", \"{:.2f}\".format(100*nb_fraude_sampled/(nb_perfect_sampled+nb_fraude_sampled)), \"%)\")\n",
    "\n",
    "    return X_train, Y_train"
   ]
  },
  {
   "cell_type": "code",
   "execution_count": 35,
   "metadata": {},
   "outputs": [
    {
     "name": "stdout",
     "output_type": "stream",
     "text": [
      "Nombre de perfect dans data_sampled :  51303  ( 98.00 %)\n",
      "Nombre de fraudes dans data_sampled :  1047  ( 2.00 %)\n"
     ]
    }
   ],
   "source": [
    "X_train_bis, Y_train_bis = sous_echantillonnage(X_train,Y_train,2)"
   ]
  },
  {
   "attachments": {},
   "cell_type": "markdown",
   "metadata": {},
   "source": [
    "# Test de modèles"
   ]
  },
  {
   "cell_type": "code",
   "execution_count": 31,
   "metadata": {},
   "outputs": [],
   "source": [
    "def test_modeles(X_train_bis, Y_train_bis, X_test, Y_test):\n",
    "    model1 = RandomForestClassifier(n_estimators=150, random_state=42)\n",
    "    model2 = xgb.XGBClassifier()\n",
    "    model3 = LogisticRegression()\n",
    "\n",
    "    model1.fit(X_train_bis, Y_train_bis)\n",
    "    model2.fit(X_train_bis, Y_train_bis)\n",
    "    model3.fit(X_train_bis, Y_train_bis)\n",
    "\n",
    "    y_pred1 = model1.predict(X_test)\n",
    "    y_pred2 = model2.predict(X_test)\n",
    "    y_pred3 = model3.predict(X_test)\n",
    "\n",
    "    average_precision1 = average_precision_score(Y_test, y_pred1)\n",
    "    average_precision2 = average_precision_score(Y_test, y_pred2)\n",
    "    average_precision3 = average_precision_score(Y_test, y_pred3)\n",
    "\n",
    "    print(\"Random Forest, average_precision : \", average_precision1)\n",
    "    print(\"XGB booster average_precision :\", average_precision2)\n",
    "    print(\"logistic average_precision :\", average_precision3)\n",
    "\n",
    "    return average_precision1, average_precision2, average_precision3 "
   ]
  },
  {
   "attachments": {},
   "cell_type": "markdown",
   "metadata": {},
   "source": [
    "On va tester pour plusieurs valeurs de rééquilibrages de la BDD de train"
   ]
  },
  {
   "cell_type": "code",
   "execution_count": 37,
   "metadata": {},
   "outputs": [
    {
     "name": "stdout",
     "output_type": "stream",
     "text": [
      "Nombre de perfect dans data_sampled :  51303  ( 98.00 %)\n",
      "Nombre de fraudes dans data_sampled :  1047  ( 2.00 %)\n",
      "Random Forest, average_precision :  0.051866182795605974\n",
      "XGB booster average_precision : 0.043926869972043134\n",
      "logistic average_precision : 0.014656751805151417\n",
      "Nombre de perfect dans data_sampled :  19893  ( 95.00 %)\n",
      "Nombre de fraudes dans data_sampled :  1047  ( 5.00 %)\n",
      "Random Forest, average_precision :  0.04861363273081622\n",
      "XGB booster average_precision : 0.04670369188331654\n",
      "logistic average_precision : 0.014909239237240322\n",
      "Nombre de perfect dans data_sampled :  9423  ( 90.00 %)\n",
      "Nombre de fraudes dans data_sampled :  1047  ( 10.00 %)\n",
      "Random Forest, average_precision :  0.03915532575325598\n",
      "XGB booster average_precision : 0.046830662118860326\n",
      "logistic average_precision : 0.014749925511750125\n",
      "Nombre de perfect dans data_sampled :  4188  ( 80.00 %)\n",
      "Nombre de fraudes dans data_sampled :  1047  ( 20.00 %)\n",
      "Random Forest, average_precision :  0.032751390228933655\n",
      "XGB booster average_precision : 0.03514900023480063\n",
      "logistic average_precision : 0.014876941184923156\n",
      "Nombre de perfect dans data_sampled :  2443  ( 70.00 %)\n",
      "Nombre de fraudes dans data_sampled :  1047  ( 30.00 %)\n",
      "Random Forest, average_precision :  0.03116768497959673\n",
      "XGB booster average_precision : 0.030471298734566762\n",
      "logistic average_precision : 0.014670461262233309\n",
      "Nombre de perfect dans data_sampled :  1570  ( 59.99 %)\n",
      "Nombre de fraudes dans data_sampled :  1047  ( 40.01 %)\n",
      "Random Forest, average_precision :  0.03128397210915957\n",
      "XGB booster average_precision : 0.030948883544994966\n",
      "logistic average_precision : 0.016340830192799704\n",
      "Nombre de perfect dans data_sampled :  1047  ( 50.00 %)\n",
      "Nombre de fraudes dans data_sampled :  1047  ( 50.00 %)\n",
      "Random Forest, average_precision :  0.02742839030872237\n",
      "XGB booster average_precision : 0.026228268372983945\n",
      "logistic average_precision : 0.020725483319462674\n",
      "[(0.051866182795605974, 0.043926869972043134, 0.014656751805151417), (0.04861363273081622, 0.04670369188331654, 0.014909239237240322), (0.03915532575325598, 0.046830662118860326, 0.014749925511750125), (0.032751390228933655, 0.03514900023480063, 0.014876941184923156), (0.03116768497959673, 0.030471298734566762, 0.014670461262233309), (0.03128397210915957, 0.030948883544994966, 0.016340830192799704), (0.02742839030872237, 0.026228268372983945, 0.020725483319462674)]\n"
     ]
    }
   ],
   "source": [
    "valeurs = []\n",
    "for i in [2,5,10,20,30,40,50]:\n",
    "    X_train_bis, Y_train_bis = sous_echantillonnage(X_train,Y_train,i)\n",
    "    valeurs.append(test_modeles(X_train_bis,Y_train_bis,X_test,Y_test))\n",
    "\n",
    "print(valeurs)"
   ]
  },
  {
   "cell_type": "code",
   "execution_count": 39,
   "metadata": {},
   "outputs": [
    {
     "data": {
      "image/png": "[encoded data removed]",
      "text/plain": [
       "<Figure size 640x480 with 1 Axes>"
      ]
     },
     "metadata": {},
     "output_type": "display_data"
    }
   ],
   "source": [
    "i = [2,5,10,20,30,40,50]\n",
    "plt.plot(i, [x[0] for x in valeurs], label='Random Forest')\n",
    "plt.plot(i, [x[1] for x in valeurs], label='XGB Booster')\n",
    "plt.plot(i, [x[2] for x in valeurs], label='Logistic regression')\n",
    "plt.xlabel('Pourcentage de répartition fraude')\n",
    "plt.ylabel('Précision')\n",
    "plt.title('Courbes de précision')\n",
    "plt.legend()\n",
    "plt.show()"
   ]
  }
 ],
 "metadata": {
  "kernelspec": {
   "display_name": "Python 3",
   "language": "python",
   "name": "python3"
  },
  "language_info": {
   "codemirror_mode": {
    "name": "ipython",
    "version": 3
   },
   "file_extension": ".py",
   "mimetype": "text/x-python",
   "name": "python",
   "nbconvert_exporter": "python",
   "pygments_lexer": "ipython3",
   "version": "3.10.7"
  },
  "orig_nbformat": 4
 },
 "nbformat": 4,
 "nbformat_minor": 2
}
